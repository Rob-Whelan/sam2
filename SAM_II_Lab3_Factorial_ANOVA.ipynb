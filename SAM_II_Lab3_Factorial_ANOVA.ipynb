{
  "nbformat": 4,
  "nbformat_minor": 0,
  "metadata": {
    "colab": {
      "name": "SAM_II_Lab3_Factorial_ANOVA.ipynb",
      "provenance": [],
      "collapsed_sections": [],
      "include_colab_link": true
    },
    "kernelspec": {
      "name": "python3",
      "display_name": "Python 3"
    },
    "language_info": {
      "name": "python"
    }
  },
  "cells": [
    {
      "cell_type": "markdown",
      "metadata": {
        "id": "view-in-github",
        "colab_type": "text"
      },
      "source": [
        "<a href=\"https://colab.research.google.com/github/Rob-Whelan/sam2/blob/main/SAM_II_Lab3_Factorial_ANOVA.ipynb\" target=\"_parent\"><img src=\"https://colab.research.google.com/assets/colab-badge.svg\" alt=\"Open In Colab\"/></a>"
      ]
    },
    {
      "cell_type": "markdown",
      "metadata": {
        "id": "HNrTUV0vVg1N"
      },
      "source": [
        "**FACTORIAL BETWEEN SUBJECTS ANOVA**\n",
        "\n",
        "**Learning objectives**\n",
        "\n",
        "*   Load data relating to a factorial design\n",
        "*   Be able to plot these data graphically and determine if a potential interaction exists\n",
        "*\tIdentifying and calculating the main components that are used in the computation of a Factorial ANOVA\n",
        "  \n",
        "    -error term (within subjects variance)\n",
        "\n",
        "    -both between subjects terms\n",
        "\n",
        "    -interaction term using the concept of SScells\n",
        "\n",
        "*\tCompleting the ANOVA table for a Factorial ANOVA\n",
        "*\tComputing a Factorial ANOVA directly using statsmodels\n"
      ]
    },
    {
      "cell_type": "markdown",
      "metadata": {
        "id": "YIwlDDGVXBJF"
      },
      "source": [
        "The previous lab dealt with a research design that involved one factor only. Unfortunately, things are rarely that 'simple'. Today we will address the additional complication of adding a second between subjects' factor to the experimental design. We will also calculate some individual components of the formulae to demonstrate how the different sources of variance are calculated.\n",
        "\n",
        "**HYPOTHETICAL RESEARCH EXAMPLE**\n",
        "\n",
        "Researchers were commissioned to determine if two new anti-hay fever drugs had an impact on driving performance. Since the drugs had different physiological processes it was thought that they might have different impacts on drivers who were fresh and responsive, compared to drivers who were tired. The variables involved in this study are formally stated below:\n",
        "\n",
        "•\t**Drug Level**:\n",
        "-\tPlacebo\n",
        "-\tDrug A\n",
        "-\tDrug B\n",
        "\n",
        "•\t**Participant Alertness**:\n",
        "-\tFresh - participants were tested after rising from a night’s sleep \n",
        "-\tTired - participants were tested after 24 hrs sleep deprivation\n",
        "\n",
        "•\t**Driver Responsiveness** measured through driving simulation (scored on a scale of 0-30 where 30 indicates excellent responsiveness)\n",
        "\n",
        "\n",
        "The testing procedure involved 60 participants consuming a flavoured drink that contained one of the three Drug Levels. They were then tested on a driving simulation task 10 minutes later. The data that could have been generated from such an experiment can be loaded below. "
      ]
    },
    {
      "cell_type": "code",
      "metadata": {
        "id": "5YJhiWMrf1j_"
      },
      "source": [
        "import numpy as np\n",
        "import pandas as pd\n",
        "import matplotlib.pyplot as plt\n",
        "import seaborn as sns"
      ],
      "execution_count": 1,
      "outputs": []
    },
    {
      "cell_type": "code",
      "metadata": {
        "id": "AVrXHlZLcSQk",
        "colab": {
          "base_uri": "https://localhost:8080/",
          "height": 1000
        },
        "outputId": "6a37bd06-588d-4997-82f7-18dfa84fc8d1"
      },
      "source": [
        "df = pd.read_csv('https://raw.githubusercontent.com/chiaracc/SAMII/main/SaM_II_Lab_data_csv%20-%20Sheet1.csv', index_col=0) # Read in the data, the first column is the participant code, the first line is the name of the columns\n",
        "df # This shows the data in a neat table\n",
        "\n",
        "# Pandas reads the first line as the index automatically, so it's infering header=0 if nothing is specified. header=None should be used when the first line does not contain the columns' names"
      ],
      "execution_count": 2,
      "outputs": [
        {
          "output_type": "execute_result",
          "data": {
            "text/html": [
              "<div>\n",
              "<style scoped>\n",
              "    .dataframe tbody tr th:only-of-type {\n",
              "        vertical-align: middle;\n",
              "    }\n",
              "\n",
              "    .dataframe tbody tr th {\n",
              "        vertical-align: top;\n",
              "    }\n",
              "\n",
              "    .dataframe thead th {\n",
              "        text-align: right;\n",
              "    }\n",
              "</style>\n",
              "<table border=\"1\" class=\"dataframe\">\n",
              "  <thead>\n",
              "    <tr style=\"text-align: right;\">\n",
              "      <th></th>\n",
              "      <th>Drug</th>\n",
              "      <th>Alterness</th>\n",
              "      <th>Driving_responsiveness</th>\n",
              "    </tr>\n",
              "    <tr>\n",
              "      <th>Participant_number</th>\n",
              "      <th></th>\n",
              "      <th></th>\n",
              "      <th></th>\n",
              "    </tr>\n",
              "  </thead>\n",
              "  <tbody>\n",
              "    <tr>\n",
              "      <th>1</th>\n",
              "      <td>Placebo</td>\n",
              "      <td>Fresh</td>\n",
              "      <td>24</td>\n",
              "    </tr>\n",
              "    <tr>\n",
              "      <th>2</th>\n",
              "      <td>Placebo</td>\n",
              "      <td>Fresh</td>\n",
              "      <td>25</td>\n",
              "    </tr>\n",
              "    <tr>\n",
              "      <th>3</th>\n",
              "      <td>Placebo</td>\n",
              "      <td>Fresh</td>\n",
              "      <td>13</td>\n",
              "    </tr>\n",
              "    <tr>\n",
              "      <th>4</th>\n",
              "      <td>Placebo</td>\n",
              "      <td>Fresh</td>\n",
              "      <td>22</td>\n",
              "    </tr>\n",
              "    <tr>\n",
              "      <th>5</th>\n",
              "      <td>Placebo</td>\n",
              "      <td>Fresh</td>\n",
              "      <td>16</td>\n",
              "    </tr>\n",
              "    <tr>\n",
              "      <th>6</th>\n",
              "      <td>Placebo</td>\n",
              "      <td>Fresh</td>\n",
              "      <td>23</td>\n",
              "    </tr>\n",
              "    <tr>\n",
              "      <th>7</th>\n",
              "      <td>Placebo</td>\n",
              "      <td>Fresh</td>\n",
              "      <td>18</td>\n",
              "    </tr>\n",
              "    <tr>\n",
              "      <th>8</th>\n",
              "      <td>Placebo</td>\n",
              "      <td>Fresh</td>\n",
              "      <td>19</td>\n",
              "    </tr>\n",
              "    <tr>\n",
              "      <th>9</th>\n",
              "      <td>Placebo</td>\n",
              "      <td>Fresh</td>\n",
              "      <td>24</td>\n",
              "    </tr>\n",
              "    <tr>\n",
              "      <th>10</th>\n",
              "      <td>Placebo</td>\n",
              "      <td>Fresh</td>\n",
              "      <td>26</td>\n",
              "    </tr>\n",
              "    <tr>\n",
              "      <th>11</th>\n",
              "      <td>Placebo</td>\n",
              "      <td>Tired</td>\n",
              "      <td>13</td>\n",
              "    </tr>\n",
              "    <tr>\n",
              "      <th>12</th>\n",
              "      <td>Placebo</td>\n",
              "      <td>Tired</td>\n",
              "      <td>12</td>\n",
              "    </tr>\n",
              "    <tr>\n",
              "      <th>13</th>\n",
              "      <td>Placebo</td>\n",
              "      <td>Tired</td>\n",
              "      <td>14</td>\n",
              "    </tr>\n",
              "    <tr>\n",
              "      <th>14</th>\n",
              "      <td>Placebo</td>\n",
              "      <td>Tired</td>\n",
              "      <td>16</td>\n",
              "    </tr>\n",
              "    <tr>\n",
              "      <th>15</th>\n",
              "      <td>Placebo</td>\n",
              "      <td>Tired</td>\n",
              "      <td>17</td>\n",
              "    </tr>\n",
              "    <tr>\n",
              "      <th>16</th>\n",
              "      <td>Placebo</td>\n",
              "      <td>Tired</td>\n",
              "      <td>13</td>\n",
              "    </tr>\n",
              "    <tr>\n",
              "      <th>17</th>\n",
              "      <td>Placebo</td>\n",
              "      <td>Tired</td>\n",
              "      <td>4</td>\n",
              "    </tr>\n",
              "    <tr>\n",
              "      <th>18</th>\n",
              "      <td>Placebo</td>\n",
              "      <td>Tired</td>\n",
              "      <td>3</td>\n",
              "    </tr>\n",
              "    <tr>\n",
              "      <th>19</th>\n",
              "      <td>Placebo</td>\n",
              "      <td>Tired</td>\n",
              "      <td>2</td>\n",
              "    </tr>\n",
              "    <tr>\n",
              "      <th>20</th>\n",
              "      <td>Placebo</td>\n",
              "      <td>Tired</td>\n",
              "      <td>6</td>\n",
              "    </tr>\n",
              "    <tr>\n",
              "      <th>21</th>\n",
              "      <td>Drug A</td>\n",
              "      <td>Fresh</td>\n",
              "      <td>18</td>\n",
              "    </tr>\n",
              "    <tr>\n",
              "      <th>22</th>\n",
              "      <td>Drug A</td>\n",
              "      <td>Fresh</td>\n",
              "      <td>8</td>\n",
              "    </tr>\n",
              "    <tr>\n",
              "      <th>23</th>\n",
              "      <td>Drug A</td>\n",
              "      <td>Fresh</td>\n",
              "      <td>9</td>\n",
              "    </tr>\n",
              "    <tr>\n",
              "      <th>24</th>\n",
              "      <td>Drug A</td>\n",
              "      <td>Fresh</td>\n",
              "      <td>14</td>\n",
              "    </tr>\n",
              "    <tr>\n",
              "      <th>25</th>\n",
              "      <td>Drug A</td>\n",
              "      <td>Fresh</td>\n",
              "      <td>16</td>\n",
              "    </tr>\n",
              "    <tr>\n",
              "      <th>26</th>\n",
              "      <td>Drug A</td>\n",
              "      <td>Fresh</td>\n",
              "      <td>15</td>\n",
              "    </tr>\n",
              "    <tr>\n",
              "      <th>27</th>\n",
              "      <td>Drug A</td>\n",
              "      <td>Fresh</td>\n",
              "      <td>6</td>\n",
              "    </tr>\n",
              "    <tr>\n",
              "      <th>28</th>\n",
              "      <td>Drug A</td>\n",
              "      <td>Fresh</td>\n",
              "      <td>9</td>\n",
              "    </tr>\n",
              "    <tr>\n",
              "      <th>29</th>\n",
              "      <td>Drug A</td>\n",
              "      <td>Fresh</td>\n",
              "      <td>8</td>\n",
              "    </tr>\n",
              "    <tr>\n",
              "      <th>30</th>\n",
              "      <td>Drug A</td>\n",
              "      <td>Fresh</td>\n",
              "      <td>17</td>\n",
              "    </tr>\n",
              "    <tr>\n",
              "      <th>31</th>\n",
              "      <td>Drug A</td>\n",
              "      <td>Tired</td>\n",
              "      <td>21</td>\n",
              "    </tr>\n",
              "    <tr>\n",
              "      <th>32</th>\n",
              "      <td>Drug A</td>\n",
              "      <td>Tired</td>\n",
              "      <td>24</td>\n",
              "    </tr>\n",
              "    <tr>\n",
              "      <th>33</th>\n",
              "      <td>Drug A</td>\n",
              "      <td>Tired</td>\n",
              "      <td>22</td>\n",
              "    </tr>\n",
              "    <tr>\n",
              "      <th>34</th>\n",
              "      <td>Drug A</td>\n",
              "      <td>Tired</td>\n",
              "      <td>23</td>\n",
              "    </tr>\n",
              "    <tr>\n",
              "      <th>35</th>\n",
              "      <td>Drug A</td>\n",
              "      <td>Tired</td>\n",
              "      <td>20</td>\n",
              "    </tr>\n",
              "    <tr>\n",
              "      <th>36</th>\n",
              "      <td>Drug A</td>\n",
              "      <td>Tired</td>\n",
              "      <td>13</td>\n",
              "    </tr>\n",
              "    <tr>\n",
              "      <th>37</th>\n",
              "      <td>Drug A</td>\n",
              "      <td>Tired</td>\n",
              "      <td>11</td>\n",
              "    </tr>\n",
              "    <tr>\n",
              "      <th>38</th>\n",
              "      <td>Drug A</td>\n",
              "      <td>Tired</td>\n",
              "      <td>17</td>\n",
              "    </tr>\n",
              "    <tr>\n",
              "      <th>39</th>\n",
              "      <td>Drug A</td>\n",
              "      <td>Tired</td>\n",
              "      <td>13</td>\n",
              "    </tr>\n",
              "    <tr>\n",
              "      <th>40</th>\n",
              "      <td>Drug A</td>\n",
              "      <td>Tired</td>\n",
              "      <td>16</td>\n",
              "    </tr>\n",
              "    <tr>\n",
              "      <th>41</th>\n",
              "      <td>Drug B</td>\n",
              "      <td>Fresh</td>\n",
              "      <td>27</td>\n",
              "    </tr>\n",
              "    <tr>\n",
              "      <th>42</th>\n",
              "      <td>Drug B</td>\n",
              "      <td>Fresh</td>\n",
              "      <td>14</td>\n",
              "    </tr>\n",
              "    <tr>\n",
              "      <th>43</th>\n",
              "      <td>Drug B</td>\n",
              "      <td>Fresh</td>\n",
              "      <td>19</td>\n",
              "    </tr>\n",
              "    <tr>\n",
              "      <th>44</th>\n",
              "      <td>Drug B</td>\n",
              "      <td>Fresh</td>\n",
              "      <td>29</td>\n",
              "    </tr>\n",
              "    <tr>\n",
              "      <th>45</th>\n",
              "      <td>Drug B</td>\n",
              "      <td>Fresh</td>\n",
              "      <td>27</td>\n",
              "    </tr>\n",
              "    <tr>\n",
              "      <th>46</th>\n",
              "      <td>Drug B</td>\n",
              "      <td>Fresh</td>\n",
              "      <td>23</td>\n",
              "    </tr>\n",
              "    <tr>\n",
              "      <th>47</th>\n",
              "      <td>Drug B</td>\n",
              "      <td>Fresh</td>\n",
              "      <td>19</td>\n",
              "    </tr>\n",
              "    <tr>\n",
              "      <th>48</th>\n",
              "      <td>Drug B</td>\n",
              "      <td>Fresh</td>\n",
              "      <td>17</td>\n",
              "    </tr>\n",
              "    <tr>\n",
              "      <th>49</th>\n",
              "      <td>Drug B</td>\n",
              "      <td>Fresh</td>\n",
              "      <td>20</td>\n",
              "    </tr>\n",
              "    <tr>\n",
              "      <th>50</th>\n",
              "      <td>Drug B</td>\n",
              "      <td>Fresh</td>\n",
              "      <td>25</td>\n",
              "    </tr>\n",
              "    <tr>\n",
              "      <th>51</th>\n",
              "      <td>Drug B</td>\n",
              "      <td>Tired</td>\n",
              "      <td>21</td>\n",
              "    </tr>\n",
              "    <tr>\n",
              "      <th>52</th>\n",
              "      <td>Drug B</td>\n",
              "      <td>Tired</td>\n",
              "      <td>11</td>\n",
              "    </tr>\n",
              "    <tr>\n",
              "      <th>53</th>\n",
              "      <td>Drug B</td>\n",
              "      <td>Tired</td>\n",
              "      <td>14</td>\n",
              "    </tr>\n",
              "    <tr>\n",
              "      <th>54</th>\n",
              "      <td>Drug B</td>\n",
              "      <td>Tired</td>\n",
              "      <td>22</td>\n",
              "    </tr>\n",
              "    <tr>\n",
              "      <th>55</th>\n",
              "      <td>Drug B</td>\n",
              "      <td>Tired</td>\n",
              "      <td>19</td>\n",
              "    </tr>\n",
              "    <tr>\n",
              "      <th>56</th>\n",
              "      <td>Drug B</td>\n",
              "      <td>Tired</td>\n",
              "      <td>9</td>\n",
              "    </tr>\n",
              "    <tr>\n",
              "      <th>57</th>\n",
              "      <td>Drug B</td>\n",
              "      <td>Tired</td>\n",
              "      <td>14</td>\n",
              "    </tr>\n",
              "    <tr>\n",
              "      <th>58</th>\n",
              "      <td>Drug B</td>\n",
              "      <td>Tired</td>\n",
              "      <td>11</td>\n",
              "    </tr>\n",
              "    <tr>\n",
              "      <th>59</th>\n",
              "      <td>Drug B</td>\n",
              "      <td>Tired</td>\n",
              "      <td>21</td>\n",
              "    </tr>\n",
              "    <tr>\n",
              "      <th>60</th>\n",
              "      <td>Drug B</td>\n",
              "      <td>Tired</td>\n",
              "      <td>18</td>\n",
              "    </tr>\n",
              "  </tbody>\n",
              "</table>\n",
              "</div>"
            ],
            "text/plain": [
              "                       Drug Alterness  Driving_responsiveness\n",
              "Participant_number                                           \n",
              "1                   Placebo     Fresh                      24\n",
              "2                   Placebo     Fresh                      25\n",
              "3                   Placebo     Fresh                      13\n",
              "4                   Placebo     Fresh                      22\n",
              "5                   Placebo     Fresh                      16\n",
              "6                   Placebo     Fresh                      23\n",
              "7                   Placebo     Fresh                      18\n",
              "8                   Placebo     Fresh                      19\n",
              "9                   Placebo     Fresh                      24\n",
              "10                  Placebo     Fresh                      26\n",
              "11                  Placebo     Tired                      13\n",
              "12                  Placebo     Tired                      12\n",
              "13                  Placebo     Tired                      14\n",
              "14                  Placebo     Tired                      16\n",
              "15                  Placebo     Tired                      17\n",
              "16                  Placebo     Tired                      13\n",
              "17                  Placebo     Tired                       4\n",
              "18                  Placebo     Tired                       3\n",
              "19                  Placebo     Tired                       2\n",
              "20                  Placebo     Tired                       6\n",
              "21                   Drug A     Fresh                      18\n",
              "22                   Drug A     Fresh                       8\n",
              "23                   Drug A     Fresh                       9\n",
              "24                   Drug A     Fresh                      14\n",
              "25                   Drug A     Fresh                      16\n",
              "26                   Drug A     Fresh                      15\n",
              "27                   Drug A     Fresh                       6\n",
              "28                   Drug A     Fresh                       9\n",
              "29                   Drug A     Fresh                       8\n",
              "30                   Drug A     Fresh                      17\n",
              "31                   Drug A     Tired                      21\n",
              "32                   Drug A     Tired                      24\n",
              "33                   Drug A     Tired                      22\n",
              "34                   Drug A     Tired                      23\n",
              "35                   Drug A     Tired                      20\n",
              "36                   Drug A     Tired                      13\n",
              "37                   Drug A     Tired                      11\n",
              "38                   Drug A     Tired                      17\n",
              "39                   Drug A     Tired                      13\n",
              "40                   Drug A     Tired                      16\n",
              "41                   Drug B     Fresh                      27\n",
              "42                   Drug B     Fresh                      14\n",
              "43                   Drug B     Fresh                      19\n",
              "44                   Drug B     Fresh                      29\n",
              "45                   Drug B     Fresh                      27\n",
              "46                   Drug B     Fresh                      23\n",
              "47                   Drug B     Fresh                      19\n",
              "48                   Drug B     Fresh                      17\n",
              "49                   Drug B     Fresh                      20\n",
              "50                   Drug B     Fresh                      25\n",
              "51                   Drug B     Tired                      21\n",
              "52                   Drug B     Tired                      11\n",
              "53                   Drug B     Tired                      14\n",
              "54                   Drug B     Tired                      22\n",
              "55                   Drug B     Tired                      19\n",
              "56                   Drug B     Tired                       9\n",
              "57                   Drug B     Tired                      14\n",
              "58                   Drug B     Tired                      11\n",
              "59                   Drug B     Tired                      21\n",
              "60                   Drug B     Tired                      18"
            ]
          },
          "metadata": {},
          "execution_count": 2
        }
      ]
    },
    {
      "cell_type": "markdown",
      "metadata": {
        "id": "LMSAJ3trepPw"
      },
      "source": [
        "**Q1a.**\tOne of the complexities of performing a factorial ANOVA is identifying the different sources of variation within the data set.\n",
        "* How many different experimental cells are there in this data set?\n",
        "* What method, other than counting the number of subgroups, should you use to arrive at your answer?\n",
        "\n",
        "*An experimental cell can be best thought of as a unique experimental condition produced by a specific combination of levels of the factors that make up the research design.*"
      ]
    },
    {
      "cell_type": "code",
      "metadata": {
        "id": "-CqCAnbffN4R"
      },
      "source": [
        "#your answers here"
      ],
      "execution_count": null,
      "outputs": []
    },
    {
      "cell_type": "markdown",
      "metadata": {
        "id": "KjEySaThfTgG"
      },
      "source": [
        "**Q1b.** If the study was changed such that there were 4 drug conditions and 3 alertness conditions how many unique experimental cells would there now be?"
      ]
    },
    {
      "cell_type": "code",
      "metadata": {
        "id": "hTXE0zP0fZ2m"
      },
      "source": [
        "#your answer here"
      ],
      "execution_count": null,
      "outputs": []
    },
    {
      "cell_type": "markdown",
      "metadata": {
        "id": "D3MKhmJZft11"
      },
      "source": [
        "In your last lab class (One-way Between Subjects ANOVA) the participants were placed in one of three groups based on the mnemonic strategy they were advised to use. The first group were asked to use no strategy, and therefore was the control group. The second group used mnemonic strategy 'A', while the third used mnemonic strategy 'B'. Today's data is structured in a slightly more complicated way in that each participant must be identified in terms of both variables that make up the Experiment. So, for example, all those participants in the first experimental cell depicted in the dataframe:\n",
        "\n",
        "Drug = Placebo, Alertness = Fresh. \n",
        "\n",
        "**Q2.** What two  labels would be required to identify a participant that had been administered Drug B, and had just received a good night’s sleep (Fresh)?\n"
      ]
    },
    {
      "cell_type": "code",
      "metadata": {
        "id": "ng4hS5yxVR8l",
        "colab": {
          "base_uri": "https://localhost:8080/",
          "height": 528
        },
        "outputId": "33175122-03f7-43e4-9588-b505576a499e"
      },
      "source": [
        "#what would you type to show the data for people with Drug B and Fresh? I need to re \n",
        "\n",
        "#print(df.loc['Drug'=='Drug B'] & df.loc['Alterness'=='Fresh'])\n"
      ],
      "execution_count": 15,
      "outputs": [
        {
          "output_type": "error",
          "ename": "KeyError",
          "evalue": "ignored",
          "traceback": [
            "\u001b[0;31m---------------------------------------------------------------------------\u001b[0m",
            "\u001b[0;31mKeyError\u001b[0m                                  Traceback (most recent call last)",
            "\u001b[0;32m/usr/local/lib/python3.7/dist-packages/pandas/core/indexes/base.py\u001b[0m in \u001b[0;36mget_loc\u001b[0;34m(self, key, method, tolerance)\u001b[0m\n\u001b[1;32m   2897\u001b[0m             \u001b[0;32mtry\u001b[0m\u001b[0;34m:\u001b[0m\u001b[0;34m\u001b[0m\u001b[0;34m\u001b[0m\u001b[0m\n\u001b[0;32m-> 2898\u001b[0;31m                 \u001b[0;32mreturn\u001b[0m \u001b[0mself\u001b[0m\u001b[0;34m.\u001b[0m\u001b[0m_engine\u001b[0m\u001b[0;34m.\u001b[0m\u001b[0mget_loc\u001b[0m\u001b[0;34m(\u001b[0m\u001b[0mcasted_key\u001b[0m\u001b[0;34m)\u001b[0m\u001b[0;34m\u001b[0m\u001b[0;34m\u001b[0m\u001b[0m\n\u001b[0m\u001b[1;32m   2899\u001b[0m             \u001b[0;32mexcept\u001b[0m \u001b[0mKeyError\u001b[0m \u001b[0;32mas\u001b[0m \u001b[0merr\u001b[0m\u001b[0;34m:\u001b[0m\u001b[0;34m\u001b[0m\u001b[0;34m\u001b[0m\u001b[0m\n",
            "\u001b[0;32mpandas/_libs/index.pyx\u001b[0m in \u001b[0;36mpandas._libs.index.IndexEngine.get_loc\u001b[0;34m()\u001b[0m\n",
            "\u001b[0;32mpandas/_libs/index.pyx\u001b[0m in \u001b[0;36mpandas._libs.index.IndexEngine.get_loc\u001b[0;34m()\u001b[0m\n",
            "\u001b[0;32mpandas/_libs/index_class_helper.pxi\u001b[0m in \u001b[0;36mpandas._libs.index.Int64Engine._check_type\u001b[0;34m()\u001b[0m\n",
            "\u001b[0;31mKeyError\u001b[0m: 'Drug'",
            "\nThe above exception was the direct cause of the following exception:\n",
            "\u001b[0;31mKeyError\u001b[0m                                  Traceback (most recent call last)",
            "\u001b[0;32m<ipython-input-15-532f180256bb>\u001b[0m in \u001b[0;36m<module>\u001b[0;34m()\u001b[0m\n\u001b[1;32m      2\u001b[0m \u001b[0;34m\u001b[0m\u001b[0m\n\u001b[1;32m      3\u001b[0m \u001b[0;31m#print(df.loc['Drug'=='Drug B'] & df.loc['Alterness'=='Fresh'])\u001b[0m\u001b[0;34m\u001b[0m\u001b[0;34m\u001b[0m\u001b[0;34m\u001b[0m\u001b[0m\n\u001b[0;32m----> 4\u001b[0;31m \u001b[0mdf\u001b[0m\u001b[0;34m.\u001b[0m\u001b[0mloc\u001b[0m\u001b[0;34m[\u001b[0m\u001b[0;34m'Drug'\u001b[0m\u001b[0;34m]\u001b[0m\u001b[0;34m\u001b[0m\u001b[0;34m\u001b[0m\u001b[0m\n\u001b[0m",
            "\u001b[0;32m/usr/local/lib/python3.7/dist-packages/pandas/core/indexing.py\u001b[0m in \u001b[0;36m__getitem__\u001b[0;34m(self, key)\u001b[0m\n\u001b[1;32m    877\u001b[0m \u001b[0;34m\u001b[0m\u001b[0m\n\u001b[1;32m    878\u001b[0m             \u001b[0mmaybe_callable\u001b[0m \u001b[0;34m=\u001b[0m \u001b[0mcom\u001b[0m\u001b[0;34m.\u001b[0m\u001b[0mapply_if_callable\u001b[0m\u001b[0;34m(\u001b[0m\u001b[0mkey\u001b[0m\u001b[0;34m,\u001b[0m \u001b[0mself\u001b[0m\u001b[0;34m.\u001b[0m\u001b[0mobj\u001b[0m\u001b[0;34m)\u001b[0m\u001b[0;34m\u001b[0m\u001b[0;34m\u001b[0m\u001b[0m\n\u001b[0;32m--> 879\u001b[0;31m             \u001b[0;32mreturn\u001b[0m \u001b[0mself\u001b[0m\u001b[0;34m.\u001b[0m\u001b[0m_getitem_axis\u001b[0m\u001b[0;34m(\u001b[0m\u001b[0mmaybe_callable\u001b[0m\u001b[0;34m,\u001b[0m \u001b[0maxis\u001b[0m\u001b[0;34m=\u001b[0m\u001b[0maxis\u001b[0m\u001b[0;34m)\u001b[0m\u001b[0;34m\u001b[0m\u001b[0;34m\u001b[0m\u001b[0m\n\u001b[0m\u001b[1;32m    880\u001b[0m \u001b[0;34m\u001b[0m\u001b[0m\n\u001b[1;32m    881\u001b[0m     \u001b[0;32mdef\u001b[0m \u001b[0m_is_scalar_access\u001b[0m\u001b[0;34m(\u001b[0m\u001b[0mself\u001b[0m\u001b[0;34m,\u001b[0m \u001b[0mkey\u001b[0m\u001b[0;34m:\u001b[0m \u001b[0mTuple\u001b[0m\u001b[0;34m)\u001b[0m\u001b[0;34m:\u001b[0m\u001b[0;34m\u001b[0m\u001b[0;34m\u001b[0m\u001b[0m\n",
            "\u001b[0;32m/usr/local/lib/python3.7/dist-packages/pandas/core/indexing.py\u001b[0m in \u001b[0;36m_getitem_axis\u001b[0;34m(self, key, axis)\u001b[0m\n\u001b[1;32m   1108\u001b[0m         \u001b[0;31m# fall thru to straight lookup\u001b[0m\u001b[0;34m\u001b[0m\u001b[0;34m\u001b[0m\u001b[0;34m\u001b[0m\u001b[0m\n\u001b[1;32m   1109\u001b[0m         \u001b[0mself\u001b[0m\u001b[0;34m.\u001b[0m\u001b[0m_validate_key\u001b[0m\u001b[0;34m(\u001b[0m\u001b[0mkey\u001b[0m\u001b[0;34m,\u001b[0m \u001b[0maxis\u001b[0m\u001b[0;34m)\u001b[0m\u001b[0;34m\u001b[0m\u001b[0;34m\u001b[0m\u001b[0m\n\u001b[0;32m-> 1110\u001b[0;31m         \u001b[0;32mreturn\u001b[0m \u001b[0mself\u001b[0m\u001b[0;34m.\u001b[0m\u001b[0m_get_label\u001b[0m\u001b[0;34m(\u001b[0m\u001b[0mkey\u001b[0m\u001b[0;34m,\u001b[0m \u001b[0maxis\u001b[0m\u001b[0;34m=\u001b[0m\u001b[0maxis\u001b[0m\u001b[0;34m)\u001b[0m\u001b[0;34m\u001b[0m\u001b[0;34m\u001b[0m\u001b[0m\n\u001b[0m\u001b[1;32m   1111\u001b[0m \u001b[0;34m\u001b[0m\u001b[0m\n\u001b[1;32m   1112\u001b[0m     \u001b[0;32mdef\u001b[0m \u001b[0m_get_slice_axis\u001b[0m\u001b[0;34m(\u001b[0m\u001b[0mself\u001b[0m\u001b[0;34m,\u001b[0m \u001b[0mslice_obj\u001b[0m\u001b[0;34m:\u001b[0m \u001b[0mslice\u001b[0m\u001b[0;34m,\u001b[0m \u001b[0maxis\u001b[0m\u001b[0;34m:\u001b[0m \u001b[0mint\u001b[0m\u001b[0;34m)\u001b[0m\u001b[0;34m:\u001b[0m\u001b[0;34m\u001b[0m\u001b[0;34m\u001b[0m\u001b[0m\n",
            "\u001b[0;32m/usr/local/lib/python3.7/dist-packages/pandas/core/indexing.py\u001b[0m in \u001b[0;36m_get_label\u001b[0;34m(self, label, axis)\u001b[0m\n\u001b[1;32m   1057\u001b[0m     \u001b[0;32mdef\u001b[0m \u001b[0m_get_label\u001b[0m\u001b[0;34m(\u001b[0m\u001b[0mself\u001b[0m\u001b[0;34m,\u001b[0m \u001b[0mlabel\u001b[0m\u001b[0;34m,\u001b[0m \u001b[0maxis\u001b[0m\u001b[0;34m:\u001b[0m \u001b[0mint\u001b[0m\u001b[0;34m)\u001b[0m\u001b[0;34m:\u001b[0m\u001b[0;34m\u001b[0m\u001b[0;34m\u001b[0m\u001b[0m\n\u001b[1;32m   1058\u001b[0m         \u001b[0;31m# GH#5667 this will fail if the label is not present in the axis.\u001b[0m\u001b[0;34m\u001b[0m\u001b[0;34m\u001b[0m\u001b[0;34m\u001b[0m\u001b[0m\n\u001b[0;32m-> 1059\u001b[0;31m         \u001b[0;32mreturn\u001b[0m \u001b[0mself\u001b[0m\u001b[0;34m.\u001b[0m\u001b[0mobj\u001b[0m\u001b[0;34m.\u001b[0m\u001b[0mxs\u001b[0m\u001b[0;34m(\u001b[0m\u001b[0mlabel\u001b[0m\u001b[0;34m,\u001b[0m \u001b[0maxis\u001b[0m\u001b[0;34m=\u001b[0m\u001b[0maxis\u001b[0m\u001b[0;34m)\u001b[0m\u001b[0;34m\u001b[0m\u001b[0;34m\u001b[0m\u001b[0m\n\u001b[0m\u001b[1;32m   1060\u001b[0m \u001b[0;34m\u001b[0m\u001b[0m\n\u001b[1;32m   1061\u001b[0m     \u001b[0;32mdef\u001b[0m \u001b[0m_handle_lowerdim_multi_index_axis0\u001b[0m\u001b[0;34m(\u001b[0m\u001b[0mself\u001b[0m\u001b[0;34m,\u001b[0m \u001b[0mtup\u001b[0m\u001b[0;34m:\u001b[0m \u001b[0mTuple\u001b[0m\u001b[0;34m)\u001b[0m\u001b[0;34m:\u001b[0m\u001b[0;34m\u001b[0m\u001b[0;34m\u001b[0m\u001b[0m\n",
            "\u001b[0;32m/usr/local/lib/python3.7/dist-packages/pandas/core/generic.py\u001b[0m in \u001b[0;36mxs\u001b[0;34m(self, key, axis, level, drop_level)\u001b[0m\n\u001b[1;32m   3491\u001b[0m             \u001b[0mloc\u001b[0m\u001b[0;34m,\u001b[0m \u001b[0mnew_index\u001b[0m \u001b[0;34m=\u001b[0m \u001b[0mself\u001b[0m\u001b[0;34m.\u001b[0m\u001b[0mindex\u001b[0m\u001b[0;34m.\u001b[0m\u001b[0mget_loc_level\u001b[0m\u001b[0;34m(\u001b[0m\u001b[0mkey\u001b[0m\u001b[0;34m,\u001b[0m \u001b[0mdrop_level\u001b[0m\u001b[0;34m=\u001b[0m\u001b[0mdrop_level\u001b[0m\u001b[0;34m)\u001b[0m\u001b[0;34m\u001b[0m\u001b[0;34m\u001b[0m\u001b[0m\n\u001b[1;32m   3492\u001b[0m         \u001b[0;32melse\u001b[0m\u001b[0;34m:\u001b[0m\u001b[0;34m\u001b[0m\u001b[0;34m\u001b[0m\u001b[0m\n\u001b[0;32m-> 3493\u001b[0;31m             \u001b[0mloc\u001b[0m \u001b[0;34m=\u001b[0m \u001b[0mself\u001b[0m\u001b[0;34m.\u001b[0m\u001b[0mindex\u001b[0m\u001b[0;34m.\u001b[0m\u001b[0mget_loc\u001b[0m\u001b[0;34m(\u001b[0m\u001b[0mkey\u001b[0m\u001b[0;34m)\u001b[0m\u001b[0;34m\u001b[0m\u001b[0;34m\u001b[0m\u001b[0m\n\u001b[0m\u001b[1;32m   3494\u001b[0m \u001b[0;34m\u001b[0m\u001b[0m\n\u001b[1;32m   3495\u001b[0m             \u001b[0;32mif\u001b[0m \u001b[0misinstance\u001b[0m\u001b[0;34m(\u001b[0m\u001b[0mloc\u001b[0m\u001b[0;34m,\u001b[0m \u001b[0mnp\u001b[0m\u001b[0;34m.\u001b[0m\u001b[0mndarray\u001b[0m\u001b[0;34m)\u001b[0m\u001b[0;34m:\u001b[0m\u001b[0;34m\u001b[0m\u001b[0;34m\u001b[0m\u001b[0m\n",
            "\u001b[0;32m/usr/local/lib/python3.7/dist-packages/pandas/core/indexes/base.py\u001b[0m in \u001b[0;36mget_loc\u001b[0;34m(self, key, method, tolerance)\u001b[0m\n\u001b[1;32m   2898\u001b[0m                 \u001b[0;32mreturn\u001b[0m \u001b[0mself\u001b[0m\u001b[0;34m.\u001b[0m\u001b[0m_engine\u001b[0m\u001b[0;34m.\u001b[0m\u001b[0mget_loc\u001b[0m\u001b[0;34m(\u001b[0m\u001b[0mcasted_key\u001b[0m\u001b[0;34m)\u001b[0m\u001b[0;34m\u001b[0m\u001b[0;34m\u001b[0m\u001b[0m\n\u001b[1;32m   2899\u001b[0m             \u001b[0;32mexcept\u001b[0m \u001b[0mKeyError\u001b[0m \u001b[0;32mas\u001b[0m \u001b[0merr\u001b[0m\u001b[0;34m:\u001b[0m\u001b[0;34m\u001b[0m\u001b[0;34m\u001b[0m\u001b[0m\n\u001b[0;32m-> 2900\u001b[0;31m                 \u001b[0;32mraise\u001b[0m \u001b[0mKeyError\u001b[0m\u001b[0;34m(\u001b[0m\u001b[0mkey\u001b[0m\u001b[0;34m)\u001b[0m \u001b[0;32mfrom\u001b[0m \u001b[0merr\u001b[0m\u001b[0;34m\u001b[0m\u001b[0;34m\u001b[0m\u001b[0m\n\u001b[0m\u001b[1;32m   2901\u001b[0m \u001b[0;34m\u001b[0m\u001b[0m\n\u001b[1;32m   2902\u001b[0m         \u001b[0;32mif\u001b[0m \u001b[0mtolerance\u001b[0m \u001b[0;32mis\u001b[0m \u001b[0;32mnot\u001b[0m \u001b[0;32mNone\u001b[0m\u001b[0;34m:\u001b[0m\u001b[0;34m\u001b[0m\u001b[0;34m\u001b[0m\u001b[0m\n",
            "\u001b[0;31mKeyError\u001b[0m: 'Drug'"
          ]
        }
      ]
    },
    {
      "cell_type": "markdown",
      "metadata": {
        "id": "wZ8QO_UrLob1"
      },
      "source": [
        "**Descriptive statistics**\n",
        "\n",
        "Generate boxplots to get an impression of the distributions within your data. For the purposes of trying to establish trends it is useful if an individual boxplot is generated for each experimental cell.\n",
        "\n",
        "Each one of the boxplots produced will represent an experimental cell allowing you to establish if the data change across experimental cells.\n",
        "\n",
        "\n",
        "This can be done using this code: "
      ]
    },
    {
      "cell_type": "code",
      "metadata": {
        "id": "tQ7QmjghNduG",
        "colab": {
          "base_uri": "https://localhost:8080/",
          "height": 298
        },
        "outputId": "367b8ff4-c516-486b-f5eb-4ad914337848"
      },
      "source": [
        "# Generate a boxplot to see the data distribution by drug type and sleep. Using boxplot, we can easily observe the \n",
        "# differences between different cells\n",
        "\n",
        "sns.boxplot(x=\"Drug\", y=\"Driving_responsiveness\", hue=\"Alterness\", data=df)"
      ],
      "execution_count": 16,
      "outputs": [
        {
          "output_type": "execute_result",
          "data": {
            "text/plain": [
              "<matplotlib.axes._subplots.AxesSubplot at 0x7f4f454d7150>"
            ]
          },
          "metadata": {},
          "execution_count": 16
        },
        {
          "output_type": "display_data",
          "data": {
            "image/png": "[encoded data removed]",
            "text/plain": [
              "<Figure size 432x288 with 1 Axes>"
            ]
          },
          "metadata": {
            "needs_background": "light"
          }
        }
      ]
    },
    {
      "cell_type": "code",
      "metadata": {
        "colab": {
          "base_uri": "https://localhost:8080/",
          "height": 296
        },
        "id": "6Y2Gs2yJVX-8",
        "outputId": "dd277937-5bad-499b-b2a1-4465af0198d2"
      },
      "source": [
        "# Explore a different type of plot: violin plot. It shows similar information as the boxplot.\n",
        "\n",
        "sns.violinplot(x=\"Drug\", y=\"Driving_responsiveness\", hue=\"Alterness\", data=df)\n",
        "\n",
        "\n"
      ],
      "execution_count": 17,
      "outputs": [
        {
          "output_type": "execute_result",
          "data": {
            "text/plain": [
              "<matplotlib.axes._subplots.AxesSubplot at 0x7f4f45345a50>"
            ]
          },
          "metadata": {},
          "execution_count": 17
        },
        {
          "output_type": "display_data",
          "data": {
            "image/png": "[encoded data removed]",
            "text/plain": [
              "<Figure size 432x288 with 1 Axes>"
            ]
          },
          "metadata": {
            "needs_background": "light"
          }
        }
      ]
    },
    {
      "cell_type": "code",
      "metadata": {
        "colab": {
          "base_uri": "https://localhost:8080/",
          "height": 281
        },
        "id": "ikIXLkYNMmyc",
        "outputId": "35a7960a-e475-4c9a-e08a-80f15d05d696"
      },
      "source": [
        "# Explore a different type of plot: strip plot. It useful to spot outliers.\n",
        "ax = sns.stripplot(x=\"Drug\", y=\"Driving_responsiveness\", hue=\"Alterness\", data=df, edgecolor=\"white\", size=4, jitter=1)\n"
      ],
      "execution_count": 18,
      "outputs": [
        {
          "output_type": "display_data",
          "data": {
            "image/png": "[encoded data removed]",
            "text/plain": [
              "<Figure size 432x288 with 1 Axes>"
            ]
          },
          "metadata": {
            "needs_background": "light"
          }
        }
      ]
    },
    {
      "cell_type": "markdown",
      "metadata": {
        "id": "UPHldyyIMkon"
      },
      "source": [
        "**Q3a.** Are there any outliers among these data that might be unduly influencing our results, and subjectively is the variance in each experimental cell similar (thus complying with the parametric assumption of homogeneity of variance)?"
      ]
    },
    {
      "cell_type": "code",
      "metadata": {
        "id": "-dG35tNsftdn"
      },
      "source": [
        "#Your answer here"
      ],
      "execution_count": null,
      "outputs": []
    },
    {
      "cell_type": "markdown",
      "metadata": {
        "id": "6kSZxqeQNLml"
      },
      "source": [
        "Generating a line graph – is there a possible interaction?\n",
        "The graphical depiction which best facilitates the detection of a possible interaction is a line graph. This can easily be produced through with the following code: \n"
      ]
    },
    {
      "cell_type": "code",
      "metadata": {
        "id": "SsoQ-pvYNSJ6",
        "colab": {
          "base_uri": "https://localhost:8080/",
          "height": 695
        },
        "outputId": "8daa9903-4ae9-484f-bb03-eb868157d937"
      },
      "source": [
        "# Using a line plot, we can easily detect possible interactions \n",
        "\n",
        "from statsmodels.graphics.factorplots import interaction_plot\n",
        "\n",
        "interaction_plot('Drug', 'Alterness', 'Driving_responsiveness', data=df)\n",
        "\n",
        "\n"
      ],
      "execution_count": 19,
      "outputs": [
        {
          "output_type": "stream",
          "name": "stderr",
          "text": [
            "/usr/local/lib/python3.7/dist-packages/statsmodels/tools/_testing.py:19: FutureWarning: pandas.util.testing is deprecated. Use the functions in the public API at pandas.testing instead.\n",
            "  import pandas.util.testing as tm\n"
          ]
        },
        {
          "output_type": "error",
          "ename": "AttributeError",
          "evalue": "ignored",
          "traceback": [
            "\u001b[0;31m---------------------------------------------------------------------------\u001b[0m",
            "\u001b[0;31mAttributeError\u001b[0m                            Traceback (most recent call last)",
            "\u001b[0;32m<ipython-input-19-32dcc09266f6>\u001b[0m in \u001b[0;36m<module>\u001b[0;34m()\u001b[0m\n\u001b[1;32m      3\u001b[0m \u001b[0;32mfrom\u001b[0m \u001b[0mstatsmodels\u001b[0m\u001b[0;34m.\u001b[0m\u001b[0mgraphics\u001b[0m\u001b[0;34m.\u001b[0m\u001b[0mfactorplots\u001b[0m \u001b[0;32mimport\u001b[0m \u001b[0minteraction_plot\u001b[0m\u001b[0;34m\u001b[0m\u001b[0;34m\u001b[0m\u001b[0m\n\u001b[1;32m      4\u001b[0m \u001b[0;34m\u001b[0m\u001b[0m\n\u001b[0;32m----> 5\u001b[0;31m \u001b[0minteraction_plot\u001b[0m\u001b[0;34m(\u001b[0m\u001b[0;34m'Drug'\u001b[0m\u001b[0;34m,\u001b[0m \u001b[0;34m'Alterness'\u001b[0m\u001b[0;34m,\u001b[0m \u001b[0;34m'Driving_responsiveness'\u001b[0m\u001b[0;34m,\u001b[0m \u001b[0mdata\u001b[0m\u001b[0;34m=\u001b[0m\u001b[0mdf\u001b[0m\u001b[0;34m)\u001b[0m\u001b[0;34m\u001b[0m\u001b[0;34m\u001b[0m\u001b[0m\n\u001b[0m\u001b[1;32m      6\u001b[0m \u001b[0;34m\u001b[0m\u001b[0m\n\u001b[1;32m      7\u001b[0m \u001b[0;34m\u001b[0m\u001b[0m\n",
            "\u001b[0;32m/usr/local/lib/python3.7/dist-packages/statsmodels/graphics/factorplots.py\u001b[0m in \u001b[0;36minteraction_plot\u001b[0;34m(x, trace, response, func, ax, plottype, xlabel, ylabel, colors, markers, linestyles, legendloc, legendtitle, **kwargs)\u001b[0m\n\u001b[1;32m    104\u001b[0m         \u001b[0mx_levels\u001b[0m \u001b[0;34m=\u001b[0m \u001b[0;34m[\u001b[0m\u001b[0ml\u001b[0m \u001b[0;32mfor\u001b[0m \u001b[0ml\u001b[0m \u001b[0;32min\u001b[0m \u001b[0mnp\u001b[0m\u001b[0;34m.\u001b[0m\u001b[0munique\u001b[0m\u001b[0;34m(\u001b[0m\u001b[0mx\u001b[0m\u001b[0;34m)\u001b[0m\u001b[0;34m]\u001b[0m\u001b[0;34m\u001b[0m\u001b[0;34m\u001b[0m\u001b[0m\n\u001b[1;32m    105\u001b[0m         \u001b[0mx_values\u001b[0m \u001b[0;34m=\u001b[0m \u001b[0mlrange\u001b[0m\u001b[0;34m(\u001b[0m\u001b[0mlen\u001b[0m\u001b[0;34m(\u001b[0m\u001b[0mx_levels\u001b[0m\u001b[0;34m)\u001b[0m\u001b[0;34m)\u001b[0m\u001b[0;34m\u001b[0m\u001b[0;34m\u001b[0m\u001b[0m\n\u001b[0;32m--> 106\u001b[0;31m         \u001b[0mx\u001b[0m \u001b[0;34m=\u001b[0m \u001b[0m_recode\u001b[0m\u001b[0;34m(\u001b[0m\u001b[0mx\u001b[0m\u001b[0;34m,\u001b[0m \u001b[0mdict\u001b[0m\u001b[0;34m(\u001b[0m\u001b[0mzip\u001b[0m\u001b[0;34m(\u001b[0m\u001b[0mx_levels\u001b[0m\u001b[0;34m,\u001b[0m \u001b[0mx_values\u001b[0m\u001b[0;34m)\u001b[0m\u001b[0;34m)\u001b[0m\u001b[0;34m)\u001b[0m\u001b[0;34m\u001b[0m\u001b[0;34m\u001b[0m\u001b[0m\n\u001b[0m\u001b[1;32m    107\u001b[0m \u001b[0;34m\u001b[0m\u001b[0m\n\u001b[1;32m    108\u001b[0m     \u001b[0mdata\u001b[0m \u001b[0;34m=\u001b[0m \u001b[0mDataFrame\u001b[0m\u001b[0;34m(\u001b[0m\u001b[0mdict\u001b[0m\u001b[0;34m(\u001b[0m\u001b[0mx\u001b[0m\u001b[0;34m=\u001b[0m\u001b[0mx\u001b[0m\u001b[0;34m,\u001b[0m \u001b[0mtrace\u001b[0m\u001b[0;34m=\u001b[0m\u001b[0mtrace\u001b[0m\u001b[0;34m,\u001b[0m \u001b[0mresponse\u001b[0m\u001b[0;34m=\u001b[0m\u001b[0mresponse\u001b[0m\u001b[0;34m)\u001b[0m\u001b[0;34m)\u001b[0m\u001b[0;34m\u001b[0m\u001b[0;34m\u001b[0m\u001b[0m\n",
            "\u001b[0;32m/usr/local/lib/python3.7/dist-packages/statsmodels/graphics/factorplots.py\u001b[0m in \u001b[0;36m_recode\u001b[0;34m(x, levels)\u001b[0m\n\u001b[1;32m    180\u001b[0m         \u001b[0mx\u001b[0m \u001b[0;34m=\u001b[0m \u001b[0mx\u001b[0m\u001b[0;34m.\u001b[0m\u001b[0mvalues\u001b[0m\u001b[0;34m\u001b[0m\u001b[0;34m\u001b[0m\u001b[0m\n\u001b[1;32m    181\u001b[0m \u001b[0;34m\u001b[0m\u001b[0m\n\u001b[0;32m--> 182\u001b[0;31m     \u001b[0;32mif\u001b[0m \u001b[0mx\u001b[0m\u001b[0;34m.\u001b[0m\u001b[0mdtype\u001b[0m\u001b[0;34m.\u001b[0m\u001b[0mtype\u001b[0m \u001b[0;32mnot\u001b[0m \u001b[0;32min\u001b[0m \u001b[0;34m[\u001b[0m\u001b[0mnp\u001b[0m\u001b[0;34m.\u001b[0m\u001b[0mstr_\u001b[0m\u001b[0;34m,\u001b[0m \u001b[0mnp\u001b[0m\u001b[0;34m.\u001b[0m\u001b[0mobject_\u001b[0m\u001b[0;34m]\u001b[0m\u001b[0;34m:\u001b[0m\u001b[0;34m\u001b[0m\u001b[0;34m\u001b[0m\u001b[0m\n\u001b[0m\u001b[1;32m    183\u001b[0m         raise ValueError('This is not a categorial factor.'\n\u001b[1;32m    184\u001b[0m                          ' Array of str type required.')\n",
            "\u001b[0;31mAttributeError\u001b[0m: 'str' object has no attribute 'dtype'"
          ]
        },
        {
          "output_type": "display_data",
          "data": {
            "image/png": "[encoded data removed]",
            "text/plain": [
              "<Figure size 432x288 with 1 Axes>"
            ]
          },
          "metadata": {
            "needs_background": "light"
          }
        }
      ]
    },
    {
      "cell_type": "markdown",
      "metadata": {
        "id": "5ATCIkMpN1Kn"
      },
      "source": [
        "You should see from the graph that there is a potential interaction. If you can understand the pattern of results here it will assist you in your future analyses. To help you appreciate the pattern in your data think through these questions:\n",
        "\n",
        "*\tAre the results for the placebo and drugB conditions what you would expect, given that fresh participants should perform better than tired?\n",
        "*\tDoes the Drug A condition conform to this expectation?\n",
        "\n",
        "**Q4.**\tDescribe the impact of alertness level of each of the three drug groups and in doing so state whether you think these data contain a possible interaction.\n"
      ]
    },
    {
      "cell_type": "code",
      "metadata": {
        "id": "MV0Fr7yQOGet"
      },
      "source": [
        "#Your answer here"
      ],
      "execution_count": null,
      "outputs": []
    },
    {
      "cell_type": "markdown",
      "metadata": {
        "id": "wkK0TfukObc2"
      },
      "source": [
        "MAIN COMPONENTS OF THE FACTORIAL ANOVA\n",
        "*\t*MSbetween* for Drug Level - shortened to MSD\n",
        "*\t*MSbetwee*n for Participant Alertness - shortened to MSA\n",
        "*\t*MSinteraction* for interaction between variables D & A - shorten to MSDA \n",
        "*\t*MScells* variance between all the experimental cells\n",
        "*\t*MSerror* calculated on the basis of the average variance within the experimental cells\n",
        "\n",
        "**The error term**\n",
        "\n",
        "Equation 0.1 below, which, lays out the full definitional formula for the error term."
      ]
    },
    {
      "cell_type": "markdown",
      "metadata": {
        "id": "jeD8p1JbO-qt"
      },
      "source": [
        " ![image.png](data:image/png;base64,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)"
      ]
    },
    {
      "cell_type": "markdown",
      "metadata": {
        "id": "S7l9N9-SP9J7"
      },
      "source": [
        "![image.png](data:image/png;base64,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)"
      ]
    },
    {
      "cell_type": "markdown",
      "metadata": {
        "id": "8cqyvZZVQGB5"
      },
      "source": [
        "Equation 1 is actually simpler than it looks. It is similar to the definitional formula for variance as reproduced in Equation 2"
      ]
    },
    {
      "cell_type": "markdown",
      "metadata": {
        "id": "2ZQ2K37IQRpZ"
      },
      "source": [
        "![image.png](data:image/png;base64,iVBORw0KGgoAAAANSUhEUgAAAdQAAABgCAYAAACkC4O7AAARS0lEQVR4Ae2dC9Q1UxnH/4TcJbRQKlIWH6EQck1LLlG5RS61okLKnVRWVpE7YYUiFD6RqLUkuXZxSXInYcklEQmRzy3V+rM323xnzpmZM3Nm3vf8nrVmzZyZvZ+992/eNc+7Z579PBICAQhAAAIQgAAEIAABCEAAAhCAAAQgAAEIQAACEIAABCAAAQhAAAIQgAAEIAABCEAAAhCAwEgIzClpK0lbS1pkJC3SCAQgAAEIQGCSEThW0jRJ/wubj7ecZGNkOBCAAAQgAIFGCewk6RZJ60haU9LZwag+LWm+RltGOQQgAAEIQGASEbhK0luT8bxB0kPBqH4kOc8hBCAAAQhMMAJTJM09wfrcte6uUrBDNp4b9yj73WBQ1+5xjVMQgAAEICBpXUkbNrBZ70qSFhuS8lySHpB0yJB6xrn6QpJelLTFEBDOkPRvSW8aQgdVIQABCExqAheFmUd0Pmli/2dJnmVWkTgzOqhKZeq8TGBBSc9LeqTiN1Ab0cckHQBPCEAAAhDIJ+DZix+0TRjSVOe5+V3IvbK6pP9KenySz4y8NMV86t52T8geHe7x6cm5oofHSLpE0kxFK1AOAhCAwLgSWC8YrtQAxuMLJe2d2b4i6ShJZ0m6QpJnoJ4BxTq99v+SNEMJwLNKujPodPuTWTaRdGoDm711o9g798nAc/14ssD+U5JulTRPgbIUgQAEIAABSYfnGMS/SVqgAKH5Je0r6d4cPTayZb6n7hL0/FWSjSsyPIH9AtPbC6qyI9NtkhYuWJ5iEIAABCAgaWZJ1+YYw1+UmF3OKGnXHD0fL0H6pqDDupB6CMwu6anAdZDX7zKSbpb0zkzT20taInOOnxCAAAQgkCHgGaRfzfZ6Zbtnpuygn3Yiyur58qBK4fr7k7qEvCsIrWCxcwLbH/Qpv7ikJ8Lr/BMlxc3/WPn1fplX932a4RIEIACByU3A4eWyhtC/X5C0Yomh+6E7NaPriIL1jw/1ri9YnmLFCfibqO+nox45Vm9WZhnw2v6r2Qr8hgAEIACBfAInZwxhNLD3lAywYA9iG+JY3yHsBslsifPM/oMKc700ATsXxXuyQ+naVIAABCAAgVIE/K3tT4khjAbRe3v2lhGXj/WvLlDRmU1ieX/HQ+oncHFgXOR+1N86GiEAAQiMGQEbs2cT4xaNnPdlZjarJTrssTtITgnlHUigiPh766D1m6kTjT1d88pnHXCKtF93mVGMx69tfR9fynntW/eY0AcBCEBg7AnsmBjD1KA+I2mpEnRukPSfsFZ1UDUv6XBbXt9aRBzFZzNJP+nR119L+oykNyeKlpNko+qAEXFMHs9hkuZIyrV1OIrxbJSMfa22Bkq7EIAABMaNgGdz0fCkey/29/fOOsUB8D1rcjvOx1lW4qvM2E/P9nqJnXEcl9blnKbsbb0KdeBcU+NZNLmnXjuMQAACEIDACAjMK+m+5AEcjZX336u5/Q8l7exWQXda3/3rtdQn9T72PwXp7LVCk41WaWo8zijjNwZmdF6jI0A5BCAAAQi8jsCqIVtJakzj8eavKzncD4c0jHr9Gres2Fjelei4o4eCuD7WHssOGt9laXI8DwZO3iMQgAAEIDBCAjFsXTR4ce/4sH6FWIecnxjDlSsqdNzf2Dfv7RQVxVF+fO4fkt4dT3Z839R4fp9wSpOJdxwH3YMABCAw8Qk4pOClyUM4NVp+ODt04bCSzi7fVVGZ4w6ngfp/GPQ4P6tzgk6TVNVYV+zSUNWaGs8Fyb00GwQCEIAABEZIoF+qN3vJDiueOUZD7WD7VcUBJKIeG9A1QgxbOzyViSdctf266zUxnjMTRo6OhUAAAhCAwIgJ5KV68zIUXxtGPIOMhnCYGW/WmSfq/NIwnWuxbhPjOSFhvXOLY6NpCEAAAmNNwLPRaKTSvROVV3X0mSvR6YASw4idee5O9LmPRw6jsOW6TYzn0ITP11oeH81DAAIQGFsC/VK9+Turv7eWlbcnD3hnvBlW9kn02aDaU3kiS93j+VbCp2jSgonMj75DAAIQ6CyBfqneqsx4lk0e8P+sYdSnJfpsUE+tQWebKuoezzcSPv1SubU5ZtqGAAQgMDYE8lK9OWjAB0tScAi8+Pr47yXrZovHWLVRn/d2TnJYv6ri75hXVty2q9poqNfEePxPT+RDcIchbxDVIQABCNRB4KTkwRwf0N4fXFL5+omeh0rWTYs736cdpB4OHr1pn4ZxSnIAi1RXmWMHk6gqTY0nDaLxy6qdox4EIAABCNRHwKne7s0Ym99KemPJJtKsNI+WrBuLe3mM16A6efb7wsk0gMFtsWCFvfvntZtVti0qtOcqTY7n68k9K5KntuIQqAYBCEAAAkUJOLC8DWCcsTncX5X4uFMSHY8XbTwpt6Qk1/Pr5g2S8842E/vmfRo5KSnWucOmx3NAwuXEzo2eDkEAAhAYMwLODuNsLdFg+dtn1ZyiCyd6nirJ0XXvD/U/n6nrjDg2tLGPp2eud/HnKMZzYMKk7Ov5LjKjTxCAAAQmLAEvnUlDETodWl66tCKDtOGLRu+FIhVCmfkSo573rfI7iW6vca0ygy7RpaGKjmo8XioTeXtJDgIBCEAAAi0RcIzc+EDOvmat2qXnEp1Fcq06qPuNoc5vJDkAQi9Jv8+6z3mGt1fdUZ4b5XhSZ7LPjXKQtAUBCEAAAq8RSIMC2EBlX7O+VrLckT1zo5HuF3HJ+Tw3zXy7/V1OQAkb2fT1pvV7BrzjEFGdyo1qcOk2xpPGB66SKm/wqCgBAQhAAAJ9CcQUaNHw1TnbS7/HLtGnF8cmhjf2w3t7+O6S1LPRTDPPpGXj8bZJ+bYO2xjPRQlDexMjEIAABDpJwFF/dpK0Ts6sqZOdLtApB79PA9jX7eCTvkZes0B/KFKdwE3BoHrNrp3LEAhAAAKdIuC1j142Emc/3vtV5Byd6mW1ziwf1nfGsV1WUw7UtDfOehL1b51e4Lh2AjFV3u21a0YhBCAAgSEJzBICHDhG6nsl7SrpwWAgvj2k7rarO3C9oxdFY3erpHka6NQKSRv7NqAfla8QmDXhfApQIAABCHSNwMaSjsl0yq99bYSuyZyfSD8d/9azmGhM/U+CgzmUlQ9IckzavST5gd5LvBTHy1rcFgHbexGq59zSyf38Qj0q0QIBCECgPgJemrFARp1/2zh4ScdEFM+6r0gevk6r5tl3WXE6N89qo1FepY8C//Phctf1KcOl4QhsldwLv8pHIAABCHSewOLhwVWnJ+yoBu3lJmcmD14vNflwxcb9PTQaU89AbajzJAZhcHaYmfIKcX4oAoeE+/EMjIfiSGUIQGCEBPYPYe+6HJknD4fD0UUj6P2n8woOOO/XuHcnuhw4v584TVps117SSP0EoofvOfWrRiMEIACB+gksIumJIWZ19feouEZ/V4tGzXv/Y1BFnHHmZxldgxy0PDO+J9Q5rkqj1OlLYNHkfqzbtyQXIQABCHSAgJfJ3CBphw70pWwXNgwZW6JBPbmsglDeoQPT4AFRX5oJJk91TH79QF4BzlcmsHswqPdNsjXSlYFQEQIQ6C4BO+CcJ2kiBhz3shUHuY/Gz4mny3zH9OzSHqROXh2XDEVd3r8kyV7Dg8QxbR0f2HWGCbg/qJ1xvG4HOXP18i4EAhCAQKcJfF+SY92m4kg0nnV1WZx2zenXUgPoNYpeCtRrc7g859F0dKPzw4zcr7jT+tnjMp67TuTt+kd3GdoE69s7wj8q/sfGnyQQCEAAAp0lcHgIvG5DEzcbnDslOdF1V8VOU9kIT1ljWMfvPUoA8Ktnt2mvYB7+JcD1KepQkWb68z5luAQBCEBgJAQ803S+yihe/hF/OwVWntF5UtLssVLH9nYcsudtXt/rOu81rP0yyPTC4pmv2yeaTy865c4tJ8lxe/1K345JCAQgAIFWCHws8Tz1A/5RSRdL+qOkE1rpUT2N+pvnj0dgTP0g/0SFLi8UPKX9inJKhfpUeY3Ar8J9dkhMBAIQgEArBFYNzjQ2pHY0cvSjLSXFZNh7ttKrehr9ZMPG1LPSSyWtNER3Pxv6eNoQOsa9qpM2+O/3ajx7x/1PgfFDoF0CMaWYIwU5EXQUG1I/pBzDd6KKZ6jzN7TNWyOUSyRtV6O+cVM1p6T7JS05bgNnvBCAQLcIXJ7M4tIYtDGsYBMPKS+4d7LtKpuDz0828VIkZDgCMByOH7UhAIEaCByaGFQbOIfSi+IYvf3i0sZyZfebJ216FlxmO7JsY5SHAAQgAAEIjIKAgx3YqSYatQNH0OgSks6quG1ToH9TJT3PBoOa/gacbB6BAAQgUIjASYlBdQSflQvV6m4hOwltwgaDmv4G1ujunzo9gwAEukbA4fLSUHrO1pE6KNXd39UlOexflc3rYREIQAACEIBAZwmsl8xS/fq3ycD3fEPt7J8BHYMABCAAgTIEHJzd2WKycmpiVB0QoSlZO0QvcgSjstv2TXUKvRCAAAQgAIGyBFYLhjMbos3h26Jz0rVllVIeAhCAAAQgMG4E7Clrw5lNrO2ZYzSoziqDQAACEIAABCDQh0BMcO3wgmuFcg4if04wqE5T5qUtCAQgAAEIQAACfQh49hkTXDsw+42SHgvG9CpJy/epyyUIQAACEIAABAKBj0p6jyTnCfUSFucy3ULSMhCCAAQgAAEIQAACEIAABCAAAQhAAAKTmsCKk3p0DA4CEIAABDpHwK/fz81sZ0iaqU9P98iUj/Wdmq9tWV/SH8L3+SYSLbQ9PtqHAAQgAIGOEvDaYIdXvCdZwuSlTJv16e9SknaW5Jy2cdnTNZI27VOn6UtO0ec+xP54j0Ftmjr6IQABCEBgOgJLZ4zRFdOVmP6EvbdtuO7KpOGbvmRzZxaUdKWkByQ9khkDBrU57miGAAQgAIEcAva+Tmd3Pp6SUzaePjvU2SWeaGFvo7lqaHexzBgwqC3cEJqEAAQgMO4EnJc2a1CP7wNlhjAjdG7bhfqUG+Ulf/dNx4BBHSV92oIABCAAgZcJXBeCbxyVGKWnJc2dwyfGYXZgjq6IUwBiULtyN+gHBCAAgTEksIAkzzTt1OPZZupslPc6d+9gvPbrEC8MaoduBl2BAAQgMI4EtgrG8Zth8GclM707coBcEsosm3O9jdMY1Dao0yYEIAABCLxK4LRgHNcIZ2K6vfj6dJ1XS75yMJukZyU9mDnf9k8Matt3gPYhAAEIjDEBOxc9LMnfS2dOONyUzFLPS8770Gs+bWxPypxv+ycGte07QPsQgAAExpiAX9naOF6QYbBDYlCdKWiR5PoR4domybkuHGJQu3AX6AMEIACBMSWwTzCOu2XGP7ukxxOjelBy/ebguDRXcq4LhxjULtwF+gABCEBgTAlcFoxmryAORyYG1VGIvK7TkYk8o728Ai/HCHZUo7Kb+2hjOUgwqIMIcR0CEIAABBohMIek5yU9lKN98bCcJjonbSNp22BQ98qp0+/07YmBjjqL7tPvu3ltYFDzyHAeAhCAAAQaJbBhMHA/6tPKhYkR9DpVl7URdID8snJC+Fbr77Vltp8yQy2LmvIQgAAEIDBKAscF4+hZZ55skBjUOJu8L69wy+eZobZ8A2geAhCAwLgScIYWG8l+sXhn7JHazTPNLgoGtYt3hT5BAAIQmOQEVgjG1N81B8memVnqRoMqtHQdg9oSeJqFAAQgMM4ETglGcmoBCPNKmhbKPyfJzkxdlLdkDP88XewkfYIABCAAgclBwIHwD5P0YjA+T0myN+8gOTmUv3hQwZauOxziwRmD+kVJfmWNQAACEIAABGoncH3G6ERHo3MHtBTTtfn1b9fkL5kMOXFM3j8p6ZaudZj+QAACEIDAeBOwMV10vBEweghAAAIQgAAEIAABCEAAAhCAAAQgAAEIQAACEIAABCAAAQiUIvB/p5C6e5Ku+sMAAAAASUVORK5CYII=)"
      ]
    },
    {
      "cell_type": "markdown",
      "metadata": {
        "id": "aphfsjIyQjgb"
      },
      "source": [
        "The main difference is that in Equation 1 because there are several cell means, you must use a label to identify the variable combination that produced each cell.\n",
        "\n",
        "This definitional formula helps us understand what is being measured but it makes the calculation excessively cumbersome. Therefore, for the sake of expediency the results (sums of squares) for each experimental cell are provided below:\n",
        "\n",
        "D1A1=166, D1A2=288, D2A1=176, D2A2=194, D3A1=220, D3A2=206\n"
      ]
    },
    {
      "cell_type": "markdown",
      "metadata": {
        "id": "JOOjBBAmRo23"
      },
      "source": [
        "**Q5.**\tAdd the values given to you above for the six experimental cells and then divide this sum by the denominator identified in Equation 1 to produce the MSerror\n"
      ]
    },
    {
      "cell_type": "code",
      "metadata": {
        "id": "tRBmYOVRR7ie",
        "colab": {
          "base_uri": "https://localhost:8080/"
        },
        "outputId": "034dc651-23db-4dd0-a9ce-b4abe7245d47"
      },
      "source": [
        "example_calc=(100+200+300+400)/2\n",
        "print('Example result: ' + str(example_calc))\n",
        "\n",
        "\n",
        "#Your answer here\n",
        "\n",
        "#MSerror ="
      ],
      "execution_count": 25,
      "outputs": [
        {
          "output_type": "stream",
          "name": "stdout",
          "text": [
            "Example result: 500.0\n"
          ]
        }
      ]
    },
    {
      "cell_type": "markdown",
      "metadata": {
        "id": "AcfXlYrOR3MP"
      },
      "source": [
        "Between subjects variance for Drug variable - MSD "
      ]
    },
    {
      "cell_type": "markdown",
      "metadata": {
        "id": "hDqMaO2FSKj5"
      },
      "source": [
        "![image.png](data:image/png;base64,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)"
      ]
    },
    {
      "cell_type": "markdown",
      "metadata": {
        "id": "V_Tm_LKJSWRe"
      },
      "source": [
        "Equation 3"
      ]
    },
    {
      "cell_type": "markdown",
      "metadata": {
        "id": "sRoe4NCISMDg"
      },
      "source": [
        "![image.png](data:image/png;base64,iVBORw0KGgoAAAANSUhEUgAAAdQAAABuCAYAAACeAeLLAAAgAElEQVR4Ae3dCbQuS1Uf8B2jxkRUQiAxJmGMijKHhIiABBVMjKKComBAogwyKoooRgkacCAKCsroxEwMKIIGRVDBMKOoCARFBmUQEBRNBBLBrN95tZ/71eru833fPffce3l7r3VO99ddXcO/qutfe1d17YiWRqARaAQagUagEWgEGoFGoBFoBBqBRuB8QeAnI+IrS2auFBHPjYi7lGuXH9e+JCJ+ulzv00agEWgEGoFGoBEYCDxhIsm7RcRfR8TLC0K3ioj3RcS/i4h3let92gg0Ao1AI9AINAIDgTtExNsLGj8XEY+MiA9HxBXG9R+KiGdGxBcMQr12RNw3Im4TER9Tnv24iPjqiLhfRNy0XP+siLh+RNwrIm4+rl85Iu4REfeMCOcpN46Iz8kffWwEGoFGoBFoBC4UBP7J0EivEhEfGxF/ERHXiYjXD3JUjldFBM0VoSLaN0fEUyLivRHx6FFQZPpbEfEHEfG0iPhARHzjuMesLF5xPjUibhgRfx4Rz4+IF457nz7C0pifPs770Ag0Ao1AI9AIXFAIvDYibh8RN4uId0TE34qIR0TEEyPishHxoYi42iBU5uCrj9LdOyLeMM7vOszClxm/mYdfM84RKlIWL0GkSDflJyLigfmjj41AI9AINAKNwIWKwMOHpvmQiHj8KMQXRcQbI8KR1kloqOZSUz4vIt4zfvxoRHxwaKE0Uc8gX5onQv2xfGiYjf+khH13RPxOud+njUAj0Ag0Ao3ABYnALYcG+ZsRcbtRgo8fBEl7fNS4lnOoWchKqMy7/2torzTYa4x5VPEgVKSd8uKIMC8rnL9/FRH/Im/2sRFoBBqBRqARuFAR+KSI+H8R8VcR4ROZlF8Zc6ZfNi5sEaq5WKbhL42Ivx0R3z7Mx+KeCfUbIuJ1EfHPI4KJ+EURYe6UWMD02eO8D41AI9AINAKNwAWHwEsi4hVTrr91EC1SJLeIiHeOc4eqofr9gKHVvj8izMuaRyUIlUaacrmI+OVBwBYrPS8i/sG4+eSxojjD9rERaAQagUagEbhUIuAzmn+0Y8k/MSI+YcewHawRaAQagUagEWgEGoFGoBFoBBqBRqARaAQagUagEWgEGoFGoBFoBBqBRqARaAQagUagEWgEGoFGoBFoBBqBRqARaAQagUagEWgEGoFGoBFoBBqBRqARaAQagUagEWgEGoFGoBFoBBqBRqARaAQagUagEWgEGoFGoBFoBBqBRqARaAQagUagEWgEPqIQsLfv1t8+hf3ZiLj2Hg/Y6D+939wnIu65x7MfaUG/PiJ+uzgvONfl27U+viUi5P2k5ZB4rxMRvzb2t77CQoYeExHPHX8/ExHfHRH2u25pBBqBRuBEEOAKbutvn0R+pDhF3+U5XnZ4xCH8uPL1emkUDuE5Ovj+iEAK54PsWh+8Fz3sLGT4kHg9w6MSb00wrfKxw6GEvN4pIr5t+Al+Q0T83RqwzxuBRqAROB8Q+MqI+IcjI3yv3i8i7hoRV1zIHOLgWo7Xm2sOQn3kcEtHO+FerspNR3xfHRF/p94o59zZfXFE8N7Db+w/G/e4xfvUEu4qEXGr8fvjIkKc8iqNFOlfPyLuFRE3HxevN7RoLvNukgGHG73PjYj7RsQNRh7+8bi/Fn95PG4/nMTfPyKuOm5ceQw25E0c5FOGZyHO6L8uIvjAnWUNJ1aIO0SENL4qIhBMypUi4i4R8R8i4u+Piwh1qz7y2Zn4ltI/BP853kzPUbn5E75HRKhLcsOI+I3hQenfjGv1oD3+dUT803LxsoNk71yu9Wkj0Ag0AgcjoHPSaetMHflN1Sn6/eV7xvpnEXGziNCh/Z+I4DT9ORHx54MManT8ub5jaBQIQgdOS3tpRPz8cGeXRMY0x/3cUyPireOZGleeMzn/QUQ8ephP/zQiuMR70vjLcI8bcSGq3xrPPC0iPjCIWDiu8KT5+hEWNsr0+Ih41vBpe+sR4Q+PMv50RMDgg8MF31b8mRdHmrnO3vOIHGHDwu+3R8SrI+LvRcQXRsRfDtd+vxcRCKHKGk4GOX8cESwC6uTdEaG8hMld/fz6qKt3Dcy26mM8enSoxLeW/iH413hreqYU1MMLI4IrROcGNwYLbxmuEZemDu4+2luNy7n2Vl0ezvf7dyPQCDQCeyHwLwdBZEd03Yj4/Yi4xl6xXEQmCJU57TUR8cnD9EZz4+R8FvNd1eT7qqHtCaeD/96h8XLKnhol7fRPFvLGbKcTzjxzbffhoTHyJ/u/h2aD5JAen7O05/eNQYQ0+ZWVb4JQ5SdNhzTeqsnI+w8MjQcZplb0OYMcj4t/JHN0oC2K4zOG+VH5DDKIAQ4SpSkjVOE+bdyrB6S5hhNH8uYPP2o8QLNDPuTnIuIZ49zhp4bJFKEu1UcJenSaxLeV/iH4Z7xzegY07qU8fZCr38rCV/CSKJf7sxhQPWi+2L8bgUagETgTBHSqHJAziXFKjgz3ldRQmSvNyyK0l0XENxWirHHOhKoTT0EANE1EhURonrRFfzTJ78yA5cjc+uNDS6G5eO5GgxTfNLTu20TEHw1yoRnSJjNeaXjm0weh1vxcfnS8MKLhKRvN9N8PbfKjRz6YnWl8CHUr/pLtI/OrdBEqk/X/neb1/sfAAqEaACzJFk4GBUzEyMdACfHSfMmbx8Bi/Lz4oOy1/FkfFwcYJ0l8x6W/L/4Z75yeur9tufgfI+I94/cWoRoofUd5zikzuPiYwFsagUagETgxBJh5deo0w3nOkwb1qDFnZTSPuJYkCZW2iIDMW9Eykds3LzwwE2pdlJQduHlQ+UJQVx9/THw5P5rRGgjQ5MTBVGwFMdK78QjwwIhATMy1Dx7XaJ2IP+Ol3cKBGZyG+vCMPCKeP0yM5omvFhHPHvfNzcpfzs3R1KQrv1vxl6gvQahZD/KfYvXvfx4aKjP5kmzhZBUu8zct19z1HYv5kxm4Dk5YGJiBkelSfcxpJ/Ftpe+ZffHPeOf0mKTTquHef4qI3x2B1gj1EyLiQ6NOanwW0Rlc5Rx1vdfnjUAj0AgcjIC5RmbRx67E8OKxkMW8HTPZkiSh6vyFEae5v98ZHer8jPlVK1uZcbc68P85TJY6RuZoxJkm0YwzF50wLdPImJ0RncVChNZMG6X9pfkZaelozefSLM1dIiz5ngmVJmdBD0E4NEWDDKJDNy9Lw3QtBwBb8Y9Hjw7V5CttGtdDB7HfcsRnkEBDXSNUEa3h9JChtSsjE7L5x9TqmH/VlUGUQQFzs3S26qPmvRLfWvrC74t/jbemZx7d4iOLkdQj7LPNrhFqas/mXw2ADBqUj3b6b2vkfd4INAKNwJkigPR0Rt83tMlc6Znx6gz/+/jBFMyMuyS0IJ0V4mM2RtA6LVqvOc1ZkB5tzmpSHdwjSoDUUF2itdEkxKXDl88lsdBGmsiCBsm8ee8SkJYpL1XMuSFai4BeO+ZR3UeodbHK1w5T7zsjwqcWzxwEJqyFRLRImriFUQhVJ07W4h+3jw5JqDRlopNHnMj/vRFh1TMxx5um2nHpEoc1nBCPhU3qxx+84W7VsO8waal/NdLKOtiqj5oo4vvBcWEt/Qy/D/413nze0erpF4z8ag8sDrnaWZ0szaGaw1cn/pRbG9I+rAxuaQQagUbgxBBgnkUCzLgfExFvG5+Q1ASQklWU7jODWniziyDqeSXq/BzyzfnH+d78G5nTsrbkEwehb4WZ7ynXEuHP4aQ9h2Mu/K/lcxODDx23ediUXePP8I60bOSRC4nqvePO13CS9zWsDaJOyvS5lv5avg/BR36TSNfi7euNQCPQCJwaAkxgzLFMgDpbvy3esKjGZzNEZ8csiFAt8DmO0MZjl6qDz3xeOTRs2qtdeFoagUagEWgEGoFGYE8EaEpW+5qDdTQIaWkEGoFGoBFoBBqBRqARaAQagUagEWgEGoFGoBFoBBqBRuAcIGBxx5a3mZNYqHJp80Lje9e6KOkcVGsn2Qg0Ao1AI3DaCPh2cMvbjM9FzlQubV5ofO7iu9iWRqARaAQagUbgRBE4H7zQLHmDWfLesuaV5V9HxLUiwkYLPNNY8Zxi5fPnj92grJReI1Q4+KzGHsK2zPOJjzhtzSj+Kr7plI5N+at3nUPyV+Pt80agEWgEGoGzhIDvUH0ik3+2kPvM8jvdkJ1J8rmDks0ObH5w2l5o1rzB2BGoem+xAcKaVxYbHdgQwGdGPouxQYDniQ0gfGpk8wsbJ/gOdUlDFcbWeelFxqc2fzi82SDh3LVnzWvLlteYrfyNbPahEWgEGoFG4GwjYL7PDkO5S47PQLgH8+1pels5kzwkoZ4LLzS200NwuXNR9QaDEN1L7y1bXlkQFrJNPH5p7BBkEwNx0FBJxrlGqLlvrgGM59Lv6xPHphlbXlsOyd/IVh8agUagEWgETgsBWpzt/excZBvC3ANX+jpy5setP5s/rEkSKnPnaXuh2fIGg/yq9xZkueaVBaEivRS/cyN+3lty8ZbdodZMvjRU2wcSJl3acRI0LZeLsdx3dsm7ziH5G8n1oRFoBBqBRuC0ELDZuP1c7WfLf2UVhMqVGv+YzJr26eXlA8HSOnmN2YVQz4UXmi1vMAi1bja/5ZUlCTRxyd98ydI00zvMFYY5eE1DRaTEEcGmJKFueW05JH8Zfx8bgUagEWgETgkBG7TbTH7Nk8zXDAKVHSRqIQ1hFv7NommNy5c4pIZ6LrzQyMiaN5iZULe8siSBZsHyN9z4R7WfL1P5dw2CPZRQxb/mteWQ/GV++9gINAKNQCNwCgjYMJ1brG8dZMBjzCy+JaXtkf8yNFKLl3h+4a0k5yFHkEsczrUXmjVvMLP3li2vLAg055gVLgnVOZ+rFhcx/abXGZrrLAYWqaGay/U7JTVUv4VZ8q5zaP4yjT42Ao1AI9AInEUEfJLx38rcHnOujQmq0LxePi7wBWqVqjlDe9eaM2T6/ar6wDHnp+mFRj6P8wYzZ3fLK8sctv6ePdHUe4ecr3ltOTR/h+Shn2kEGoFGoBHYAYHrDRMvM68FQ/5+YWipHH/7TpLcJCL4lOTU2xwfMa+aTr6/vHinGbfPq0N7gzmvqqMz0wg0Ao1AI3ChItDeYC7Umut8NwKNQCPQCDQCjUAj0Ag0Ao1AI9AINAKNQCPQCDQCjcApIfANEXGvPdLidNtnKuT6Y2HT+HneHazQtVDrtOQ641te3wD7jvWkxTeyFpORXeptX+9AI+qdDlaQX2ankMcHquU6PvThIZ459lw+LgZz9Vc/LtAB9w+J1zfLVpw/YSE9u4c9d/zZ8evpEXH7iPiohbC7tJeFxw66dDbbXc3QIXjW/qvGdVrn3xIR6vSk5WzFe9L5/IiP7457LkS6W0S8aKDyBWNP2/MVJHvq2mbwtESnBxu45M5JJ5m2z5p0jGSXetvXO9CI+tjD5ceCN04JTkJquU4ivrU4bMCRnzuthXH9AxFxw60AB97bN15t6P0RYWGhwdosXzHu2xVMJy2c8D7dmmWX9jI/c+jvs9Xu5vzsi6fna/81x3cav/URDzsLCZ2teM9CVs//KH1XSmOwl+83jvNdc32DiPBHbKB/97ES2DeZs/C5quLsD2xlcBIqzyxWD98mIowAU6w2tvPSPcfK47xej1veX247fLxm+NtFhM5cPn17et3hGSY3o+dBRlq521ESqvL5JCg164xvLX8+HbJy+j4R4ZvRWSyOkhdlszMV0QH/RkTQgnK/4XHrKL+2TlRWOOnUK+FKS759vmQldkrNB7xfFxFPjohrjjrLehPeam2bdGgHvkcm6R0IXoek7/krRcSdhhWDRkRoQXaVuvdYQX5cuxmPHWE6lxNR1HJl2Dz6XIqnHvU3k+Eabp5dwgOhftnwEqRjzXaSaeWxdtRL6fMUZA9nm4GkqHMWG7LWrmq8I+jFB88YLCmrNEnifP+IuOq4Vg82CHlJvRARNm75UERcbrpe33NelZa8NqlH74j3+ZtHG8+2JLqldu96bafel9rutuLTX2lDwnuXZ09NWYS1eq54LtWT5327rl5Y4dR97b+OK+9aPa6197XrWQ7Hmfi0aW27eqOSz9wrwDP6mFuNSNbKOcdb0+zzPRH4wbGBwJsi4ifHxgRLGxIsRfu4iHjkcC32loh43tjswCb7sw9VHardf94ZETaHR6i8tbw5Ip4SEe8dWxtKB8HowJ4fES+MiL9YcdZtY4U17y/1hRGnvXW9dNLl7cY+uc8Y1+XLTk+0HfnQESBUHb/fvrm15y6syFb+xG2zhtcsaO86G/eVSWfmHAnaaQp+rxjkOJI5Osivsijn4wcuDxwBvEjicP1ZY9vIW497NR9GtbZXpAEj16w3QRGx+G3qYbDzpPF87mx1aPrqj1cdn2DZrlK9+/b4Bwau0rniKPdWu5GdtXJ+6VSukfWjg87Dp2Dq+WmjjAaMZC0+99bwUB6Yagvq1qYbyjNLtru19G29CdsvGQ8aRNplS6e31a4y3jk9+aVZpveiV4982WNa+3U9nS/UZ20Vau/uKurDMwYUVWp7WfPapJ1479822pL2yqMUWWv37tV2aqBR291afAYg3ufnjDYLG3mcZaueE8+1ehKX/lDf8/ox2J37r7X8rdWj7/2X+sm163N5KvGteaPyXuU77Hm4eLe3ylnjndPs33sioHN/cdEO3zBGl+ZSdPq/GhG/Pq7NUeeLZgTsRczN9HUWtJpZaGXV5OuZnG8y2pQ2QaQ6wRQvZpJIXnNEqEveX9zLFybDV0KVrhEu4QTADkdEmb3gNOwk1OyMjKTtgkTT3sqf579jxDcfEJ/Gm2LeCv5EPh4wzutBRyW/XlKi46VFGPEjiDuP6w46SYRF5ny4lybfrDeEYO9mo3xytYgwt/RJU8d2SPoIiPmOiE8csDQ/7JzJd9d2s1XOWq6R3NGBv1lOD3KullUCEZK1+LbwUJ70EiTvBoM5Jz2iPTpku9tK357Y9sMmLCMIFbFutauMdzx2dEDOiCu/BVdWAz8aFQ0Yzp9RHxjn2jmiQGBV7HTmGQRYJdvLltembKdpCWCZyPdqq93P7bQSqrwsxae/MmAgNGYkLo+zrNWzcInnVj0hVIPBtAgt9V9L+Vurx7X2vnZ9Lk8S35Y3KnuwI3r9AxKF5y2GZWXtfch45/T6954IaIzAT5OAF1JnzUxyjaFdiBKJGPmq+Cr5ornGnOgFMHJ/VESkia+Gnxtk9fKiIbxnBKbZ6CiMDP3pcPggnQWhLnl/ES5fmHymEqoyp+j0K8l5OZmaECrtNF+mnPtj/trKnw5CA14SeWKKTuFgPMu8RaheilwsctmBs3zI04OGZQBGOvnUOuZ8VOLJerPXsDqbTXzyVzu2Q9JHQF+cBR2aNc2iEqrbu7SbrXLWcpXkjjrcD5Y2RFNVVgOptfi28FCeWq/axuxAQvrZ7nT4a+mzlNAqDTQQa85bbrWrjLeWEb7aNWJNscMZwt4iVO82LOatQs2Viq86sxdvtpctr02poepTiN/KQ7ba/dxOa7vzni7F5xmmzRQempYIda2ePZd4btUTQtXHpMz911r+tupxrb2vXc+0HZP4vEfqb80bFWujwZJpNP2xvmOrnBlvTavPD0DgWqMTzt2Q7C3rRWfy1NlXrZBp12i6Sr5oKsyo3ZyZeS4rVV9aA47zuUHmC+d2JVQjUJ0M7dWfjm5JG9DYc6QqjvrbSD1Hj8qnAabJt6aLUOtLUwnVi5tEBisvIdd2W/nzzNIcsvxJN7VEv3nrsWk/2SJU6aZ50RyospgbMRJmRaBh0i6fPfypim/ORyWerDcjXQOo1NYNHryISK92bIekj4ASf/kxeJoJddd2s1XOWq4jIMc/2gk3gdmGkIj8GLmvxbeFx1ye4wh1K31ZpC1rC7DNRUNb7Uq4tFJkOZVHW6jzuVb1ckCxRaiI097aOVgUn8G0Dtp7Pku2ly2vTZVAPW/wke/ZVruf22ltd/n8HB+t0RqFFFa0JUJdq2fPJZ5b9YRQH56JjHUP1cK2lr+1elxr72vXS9JHp0l8W96oBNRvG1iZBnrwiGSrnBnvnF7/3hMBK/ws6kix6EVjIF6suhDnF4fmOm4fHfJF08kzhzLpeUm/p5jXanjzqtIzMp9fwEqoOhrhLFLwomvEKn2WSqDu1d9GZrQ3gwMT94cQqmeYepGZsjKHkq38zR3EeOToYC7D4iNkqGzI9LEjwBahyodFQ7Cg/b9xPGP+2aITYsCBtNwncz7MN1nJSfvIehMOIdFqaTkWspjrRDq1Yzsk/ZmAklCVQXzm6QxSdmk3W+Ws5bqo5Bf9RzIGC+ZZaTnmGs0ja3tb8a3hMZfnOELdSl8OvWsGfebuU7baVRJAhnVUFhaOh446M+CF7c2PIVSDUAMxHTPzrnn3V453jlY3S20va16b5ve5EupWu5/baW13a4RlaoTFygDZ+0mrlsdZtuo58dyqp5lQt/qvWt61elzrJ9euz+WpxLfmjcozFkSxjsAlF0ZulbPGO6fZv/dAAGlWojJvmeYnC2Tye0gvSxJtjV4jTg2R9xmdDjOITpnJdBYdqPvMuRqgcCmVUJkgbdCvQzTXY9GK1ZGzINA17y8GCxqVDttI1ctJ053TnTXUtxaTr2cs1KG1u54rY7fyJ79rGqqVfC8Y85ZeaCNI5EWs8F2bQxXW/LKycK8HR+IFZ+qFo/vi8KKROR/c7TEJq/Nab7Sctw+sxG1PZpLegdT9IenrGKuG6jcLCOFkQcdvVfEu7WarnLVcI/qLD/DUBtQfq0k6dt+Kbw2PuTyITP5nQZKpSa6l7xnODdSntQMpW+2qxpvhHb1nBgo6TyTvm0KSGmquURiXjw4vG/irA3kw1+k9zve9hnVe24tBc3pT8s2oOFge5veqEsxWu5/baba7rfhMe1h/4FmavumoJc16q54rnmv1hFCzP4TDVv9Vy7tVj2vtfe16rQt9dS6M1E4pDd5N/SmPX1X0eda+VFkrZ423hu/zE0LAy6gTsurVy0cz81IcJ7QfI6EtESZJZCuce0y1TKyHirSWRtz7xEfjVvZqHsvnD82fOeldMciRv/SXPNnQvpauZx7rEZb1U4a8J25ebZbkJNOv8dd63aXdbJVzrVzSs9hnCZ+t+LbwqGXY5Xwt/a1n921X8quN5vTEVtxncs8il329NtX09mn39bn53HezOWhVdgO0XDA2h92q5xp213o6if5rrb2vXa/5nM/XvFHN4fL3ruXM8H1sBD6iEEhCO1eFOtfpn6tyd7rLCBhcMw+zDLGK/MxysLN61feyrEe0UpYs1iPrN1oagUagEdhEwGKvujJ4M/BZuHmu0z8LReoozwABlhWrfc1JO9J4Tltopb6VZ972DfeadeW089XpNQKNQCPQCDQCjUAj0Ag0Ao1AI9AINAKNQCNwHiHwmLEdW2bpM8emDr5nO058rpG7vhwXNu9bHenzCbKrF48R/NQPPmexrP00xKIEu8r4ftJ+v1XMXS2t2KxhDjk/yXhPyrvJIeXoZxqBRqAROOcIWNHr04LcecSnDZauWxJfd2BZyyjyrR8/r4XL61bdWmpvbo7M3/eNy+fNwdL8/NzjbGfKzjfqwreT86pqy+Pzc4yTzMdJxWtey8rwk/BucpLl67gagUagETg1BHK7NZ+7cOmkg0WQuy7BtyAgv120QMF2VzYb8ME1sp4lvWCktxGEisztqTl78bBM3wbXS95CMl7Es+aVAgGlFw/hbSZgW0VidyEfQEvXrlA+VfCdmQ0UfDCeglCVSX591yZcylr+fKuXXip8ZD8L8rEpvkUVvuEj8LdlnJ2a7FZkuX+VSnxL6Z6EFxNtAdYwsVH6mpxt7yZr6fb1RqARaATOawS4XPNhv62pfPifH4bvmmmEYXMBYil9bl9mD1672MxSvY0gY4Rqt5TZiwfSWPMWUuP0WYfNIhCRHVl85JxeLuYdQOyXmZvHS9fS+/TS4VMAH7iLw0fyuTEFQrWBPK8p9shkjqW5b+XPB+Geg4H4qvhmMr2V+DidRuqjbFvj+e6XdQCxzqsnk1DX0pUnmw8c6sUEsasH2Kk3+KQVoeb/NLyb1PT6vBFoBBqBCwYBG0szwTLX6dx5iaiiA7Xjhh14dPT1g3zhKqHaVs82duYCbXnFLyJtrMq8ObqOOz/K1oGnF48tLxA1PoQq/7krT/VycRyhZro0QnHQLIkN99OMjRhzdxJbEMKJprqVP4RavVSMaI8OtpxDfDAiNGU7Qim7fOTevuP2xYck1K101U/OZ+/rxcSOQ4jeIEedyWduW5aZQNoGLGfbu0mm18dGoBFoBC4oBHSiOskbjb1vbWNXzZr20U3PMd9VNlvOQlZCZeZFODQdi3mWzJ1LhGrbrpTcI9VWaAg+Pc5UbyEZ1jE11DSR1o0IjiPU3IoOGduKLMnfdmMGGgSh1nLYiNtuMVv5Q6h1w/0R1dHBvfoxPKwRKtd3uxDqVrpn4sWEGZf2bUBjdyym78Q0839a3k0yvT42Ao1AI3DBIEDb1JlXjYP59yGjBLapSx+lLl23uHTLQlZCteDInzlRpKFznncwWSLU1C7FmYS65R0h03asBOp33VPTilkElGKD/2ryzXQdacopM6FWLztIx7zuVv6QZmq4GWce5Sc9VriWPigt7tqFULfSFZ8Bks25abT7eDGhfao786jfOwZFLAxV4ESTr9tLng3vJjXNPm8EGoFG4IJAwLyZDtIemykW6NAMmfsQKE0zhd/U9GaS1yqh2qRaZ0yz8TmNuBFFleptxMInRJbEJlwSqk4b2S95C6nxbREqU615WLu7pDeWQwjVPKsymZ80v8rLx1b+tggVhuZkEX96j2EhEP8uhLqVLlwO9WLiEylYKRvTNm8e1X2fuE/Lu0mt3z5vBBqBRuCCQEDny8NIFSRnLpSGeefhs9N9nanriKlKJVRmS6ZZJl+knHOPNbzz6m1ky4vHmneEGlysFckAAA0LSURBVB9iql5rqobKzycXTjxq/PFY9JOEWtP1WYzfKVVDRfg0SiZhZFoXba3lD6FWLxUZbx5ZAORJfLzZ2EaNINQlR+ru7eIdQ7hDvZiwVtgX1QIv2q1586VN5U/Du8kRGP2vEWgEGoGPJAT46mRCtCAJCebnMceVkZ/FeZXq/My8uGm+n7/Fs9Sx5/3jjuZF17zFHPdsve+zFCtsZzk0fz4p4tD6UDkkXfO1x+FOO+Uea0sS010/rdqKq+81Ao1AI9AINAKNQCPQCDQCjUAj0Ag0Ao1AI9AINAKNQCPQCDQCjUAj0Ag0Ao1AI9AINAKNQCPQCDQCjUAj0Ag0Ao1AI9AINAKNQCPQCDQCjUAj0Ag0Ao1AI9AINAKNQCPQCDQCjUAj0Ag0Ao1AI9AINAKNQCPQCDQCjUAj0Ag0Ao1AI9AINAKNQCPQCDQCjUAjcL4jwM/pcyMi/YJmfvk15fOT3HGEEc4fB9acYl/a5DHDbVuWmxedX4gIXlpOQp4ZEdc6iYjOURycJqRz812zcLPhcUf48738vC5dc9eCnWE4zue5HuQq8HZnGNfS4/aB/sJxY5d64w7wXksRncA13pNmhxtb0e6S363nT/rez0fE1SOCL+Inn3TkHd+FhQBvLFys8YFaXbh9e0T82ijK9wyfqPeMiPtExCOGl5TbXlhFPaPc2sie9xx+XgnvNH8aET8bEfyInoTMbuxOIs7TjMMAY80H7FI++F7V9j5l3Dzfy8/RvHo/DeHIXXvjupBjh5OWuxWfvLvUm0E1T0hnQ35l+O/dNe5d8rtrXCcRjmemG0aEOnvrSUTYcVy4CCShvisinlSKMRNqkmsGoYkYQS/Jp0YEzUPcnGE73xKeaYz85z8kNsvnR8RVh1NxcV9lDrDHb1qATkI+iVE7x+H5e1w+OnC6rfM3mv6K4d4MeezibeWKk5eeG0fETUrkPPjoNBEKwr5rROjwpJXCy4283W/yHftZEXH9oT1wo0euHBH3iAgDIOdrcpJYSuOTSzlheZuIuH9EsHYs1eXtB6b3jghecA4pfy0bDGld144IjtFpdh89Aujw4JTy2RFxvfGDtQVOcOcLWF5YCr5paB35DEJVJvn92hEu7+1TP/mMI6892gKXgHwTE/X+6Ih422if/ORWkV9tVP3CVn5TeES6wwLutZ1oY08YbgO/aKo38VwpIu4y0s5B9g0iwh85JH3aG0xvOdrwjUZc14mI1w3Nzvu/S7up7Wwt3hH9JQ7qG2b6tvr+XSLQSvmFWXuvmlBnBC/Fv72YiILjbM68HclMqC+NCMSAwHTcXnaj1iXhA/WPIuJNEcEvKL+f6e9zKfxPjM5Uh1r/ODif5Q+HtvyyiPil4XtVp3So6FiY1XSIHKOLPzuRGufdhxaPxD88+USt4ZbODTCqJqYDee0IaDABd+7plJ0fWc7MucyDIVdq8sbxNz+zTxtkLh8Evjr610fEU8dIWTzPj4gXjntLAwTPnjSW1S8uK4b8PnLk7TkXZfcS//mlhYuBnE7ykPLXCDma58tV24QFp+3aFlHPDxvnDkxz6RdXugaUcGepeeXARhz81fL/SuDMMTwzv7at3bBO7FM/I6qjAzd6Wc9PHxrp90XENYbfXhYQxIpkqiROzxh54KNYHrgCTJ+/yv3u0V48W9sJ0zp3jHwIf+d4n4UlzKni5wtXncGFH+THjboU5pD0f2zUB1+//Cx7hwx+aODvGNoyct+l3dR2thbvRaX5m/8Go94tSsCzRj3e+m9uX3y2Vn4DMuVeeq+aUC+Gr0+SUC83OhyN2/lMqDq++qdDqRpURVJH/uLSEbxhaAu0uZdExK+OF3bfuSGdrjzQ0ojGj4xomp82/LXSpM3z0kBSPn7k56Z5oRyN7jkgNw/CxEZ7XJKfGmm/f4S700KgrXSQ6NdEBAIVh46ZRvX1xfTmhdXBEWZQnY4y0pzeV+YazXfriImO8lVD0/HbC490U3SsD8wf5biF5VY9bZWxdnQ6+R8edWNgRGOcBz5XGJhWk+++5S9FCoSqfWQ9qyODBnIcoWa6LBbioNGRJxYzNkI1WCQGOuqRprpP/YzHjw73HU7ttV9C89Oe4SEfvzuuzwftJAcHnkUUtH1t3jx/Wk1YKd4yHp7biXsvGvdqvZknRtQp2j1cZ0LdN33Eh+yzDRgMJ5beWXO0ZJd2U/O7Fe+I8uhgAHrnckGaOaAql2Ot/FvvVRNqRfBSfl4JVSfxe2P0PhOqEatRsDA6SAT02wvYMU/REm417l1mdBLMLUbeRveEFvjqYb5FNDrf+U+HW8UchbjlgzBtIWsiju8e58j1jaVjcf2XR6c+glziYGSsE/3RS1y95A8ERuNhqnrQGN1XU5vQW+nQPJ4yOmAjZFqQUTMcmfuIjvIW49zhvRHxeSNfyJ4W6o/mJ7/qTkepU0mhUchnhqV50Apm2cJyrZ7EsVXG2tExRSIcnb1Oyr1Zlgh13/LXOFNDTROp3/AgxxFqLspDxn9ZOv4figikQhBqLYeBoYV72s2u9TOiOjqoO9paivaEUD93B0JNrdmzBpDIAVl9XUTQdn9/WIZo3GRuJ2uEanBpgDDLTKj7pq+NGpyk+J3vWyXUXdpNbWdb8WZajubrvbfPG5q7war+Zpa18m+9V02oM4qX4t+VUMFAQ/NSv2JalKTRV0kSYraqYp5EY02ysYhDx2ouy/xU1ZaYA82pGI0/dOFvJlSdeTUd/sggKek7l6cUJmEaNI2QudScSZr/MkwemfbeM0bQc5rCKCNMMn6DBB3VQzKCHdKhPaQJzmj8+4dZUufNJEwQampXfiehGl0zL1pJ6A/hCUdb1FHWhUAsA0ggw5r7peXOsoXlWj0dh2Xt6HRg/szXpYnP3FyVJULdt/w1vkqgriPnJFSmvuzA3fvFoqFU3KXvd8pMqNprijoxKNqnfvJZR/lJLdFvA0EDJYtujtNQEU+K6QNWG9YOZmKrcc1NmpJhcSJzO1kjVAuEUlv3nPUP2s9MqPumXwlUvPV3JdRd2k1tZzWeOV6/U2iYrGOsAFeLiGdP702GWyv/1nvVhJro9fFIy/ESM/OmIDfXkkSt8n350IgQMHLQ8HIeMJ9zNEJm3kxh1tIYCQLNpfp+69RyYchFIbb/C48IUpCmVcfEuXlIQkNh6kLi5ue8dMw95oFnybkVnZl5JfNLs1gsAo86t4p0aCU5z3tcOsxw5qwMNiy+0CmIM0230qwdu99JqAYGCN18k7KxHugozW3NHSWyhr98IX4dNu1sli0s1+rpuDLWjo71wZy0/OqQlRVRVJE/17Un+BxS/hrfFqEyLxpYGYTIDxN6mvxquscRqnlWZbLWwPyqOtinfmp+WXGY/hE/LB41rAviP45Q1Z931iBP27BgyADPQNjz4jP1YqBI5nbCVK2dyH+tN0QLJ+slfFLH2uGdnQl13/S3iM8g2QCT+XqXdlPzuxXvKPrRgeZpgRzJ+of3LGvl33qvmlBnFC/Fv2cNFRQWWjD9MmkRhKrjyz+j4BeM1ZQjyMUHnXHtwM3nGeUTL3tqgDq/JNpx+9gDDS+1RGSpITPBWkEqvynfNkb/OhlpmKv1x1RaRYfxZ2X+BqnmvFgNZ1DAhFYFAZjvoX0dl04+9+NFY4Cx/D84b468VA1NZ5grpB8wCFz+DGTSRKmjTHxFpZNl3tbJMlEycVn5OcsalsIt1dMuZawdHbMlvJl8DTxyvmzOh4GadqWc6mLf8tf4EJNBS0rVULVznaoFcrlwJwm1psui4ndK1VARrwEKqwIyTVO9sLvWT8abRyQoT+LThnPxHkJdMtV7Tj4Qj2fkNb8PNYhy3fvpz7toAGdOdm4nLEmmTxBmrTftx2AZ0RvQWSREEGpq+Iekj/gyLvFVIvS+yqf87tJuan634r0o5xf9N4DQ5rUP00S5MKuGcb5W/q33SnuwaEnfZCFhSyNw1hFAesjAy0qbNHd4Ut/X+RxCx0KjNjf52DHaNe/L5JnC7INET1pOKx2rPVMLP64MTO6zOf64Z9xfq6dDy8hMPK9SnfOxaz73Kf+cht/mGLW5XBizFGaXawYoOY9fwx+aP5hboburpEYtH/lZUH1WG1m6XsM4pxHS2JeENWapjMKeVPo1XW2g5nmXdlOf3+Wc5r7r+7NW/kPfq13y12EagUagEWgEThmBJLRTTvbi5M51+hdnpE8agUagEWgEGoEzQcC8v8+ezpWc6/TPVbk73UagEWgEGoFGoBFoBBqBRqARaAQagUagEWgEGoFGoBFoBBqBRqARaAQagUagEWgEGoFGoBFoBBqBRqARaAQagUagEWgEGoFGoBFoBBqBRqARaAQagUagEWgEGoFGoBFoBBqBRqARaAQagUagEWgEGoFGoBFoBBqBRqARaAQagUagEWgEGoFGoBFoBBqBRqARaAQagUagEWgEGoFGoBFoBBqBRqARuLQh8P8BBgUy4WafaaMAAAAASUVORK5CYII=)"
      ]
    },
    {
      "cell_type": "markdown",
      "metadata": {
        "id": "T08z8ekySm-9"
      },
      "source": [
        "**Q6a.**\tFill in the values below to calculate the ‘Sigma’ part of Equation 0.3.\n",
        "\n",
        "*\tTo do this you will need to calculate the grand mean and the mean of each of the levels of D ignoring A. Remember, to produce statistics based on each level\n"
      ]
    },
    {
      "cell_type": "code",
      "metadata": {
        "id": "a5iGh9BXS0e2",
        "colab": {
          "base_uri": "https://localhost:8080/",
          "height": 173
        },
        "outputId": "e92a2171-b95f-446f-cac7-8b41268e6851"
      },
      "source": [
        "# Example for one level\n",
        "df.groupby(['Drug']).mean()"
      ],
      "execution_count": null,
      "outputs": [
        {
          "output_type": "execute_result",
          "data": {
            "text/html": [
              "<div>\n",
              "<style scoped>\n",
              "    .dataframe tbody tr th:only-of-type {\n",
              "        vertical-align: middle;\n",
              "    }\n",
              "\n",
              "    .dataframe tbody tr th {\n",
              "        vertical-align: top;\n",
              "    }\n",
              "\n",
              "    .dataframe thead th {\n",
              "        text-align: right;\n",
              "    }\n",
              "</style>\n",
              "<table border=\"1\" class=\"dataframe\">\n",
              "  <thead>\n",
              "    <tr style=\"text-align: right;\">\n",
              "      <th></th>\n",
              "      <th>Driving_responsiveness</th>\n",
              "    </tr>\n",
              "    <tr>\n",
              "      <th>Drug</th>\n",
              "      <th></th>\n",
              "    </tr>\n",
              "  </thead>\n",
              "  <tbody>\n",
              "    <tr>\n",
              "      <th>Drug A</th>\n",
              "      <td>15.0</td>\n",
              "    </tr>\n",
              "    <tr>\n",
              "      <th>Drug B</th>\n",
              "      <td>19.0</td>\n",
              "    </tr>\n",
              "    <tr>\n",
              "      <th>Placebo</th>\n",
              "      <td>15.5</td>\n",
              "    </tr>\n",
              "  </tbody>\n",
              "</table>\n",
              "</div>"
            ],
            "text/plain": [
              "         Driving_responsiveness\n",
              "Drug                           \n",
              "Drug A                     15.0\n",
              "Drug B                     19.0\n",
              "Placebo                    15.5"
            ]
          },
          "metadata": {},
          "execution_count": 23
        }
      ]
    },
    {
      "cell_type": "markdown",
      "metadata": {
        "id": "6ewI1lO3TMoA"
      },
      "source": [
        "![image.png](data:image/png;base64,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)"
      ]
    },
    {
      "cell_type": "markdown",
      "metadata": {
        "id": "8yb_jBUUTXfN"
      },
      "source": [
        "**Q6b.**\tLook at Table 0.1 again and determine how many participants are represented at each Drug Level. Consequently, identify the value nD takes here"
      ]
    },
    {
      "cell_type": "code",
      "metadata": {
        "id": "SCjpA1_mTfU-"
      },
      "source": [
        "#your answer here"
      ],
      "execution_count": null,
      "outputs": []
    },
    {
      "cell_type": "markdown",
      "metadata": {
        "id": "6wXxnq5-XNtX"
      },
      "source": [
        "**Q6c.**\tMultiply the answer for 6a with the answer to 6b to get SSD "
      ]
    },
    {
      "cell_type": "code",
      "metadata": {
        "id": "lHaLJesEXTAg"
      },
      "source": [
        "#your answer here"
      ],
      "execution_count": null,
      "outputs": []
    },
    {
      "cell_type": "markdown",
      "metadata": {
        "id": "SiMLioeBX0j7"
      },
      "source": [
        "**Q6d.**\tYou now have all the values required to complete Equation 3. Insert the appropriate values and calculate MSD. "
      ]
    },
    {
      "cell_type": "code",
      "metadata": {
        "id": "EQ09yxslX5RS"
      },
      "source": [
        "#your answer here"
      ],
      "execution_count": null,
      "outputs": []
    },
    {
      "cell_type": "markdown",
      "metadata": {
        "id": "StTq-CJ0X9EB"
      },
      "source": [
        "**Between subjects variance for Alertness variable - MSA**"
      ]
    },
    {
      "cell_type": "markdown",
      "metadata": {
        "id": "zJZPHaIVYGHk"
      },
      "source": [
        "  ![image.png](data:image/png;base64,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)"
      ]
    },
    {
      "cell_type": "markdown",
      "metadata": {
        "id": "RjBhtZ4dYM6D"
      },
      "source": [
        "![image.png](data:image/png;base64,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)"
      ]
    },
    {
      "cell_type": "markdown",
      "metadata": {
        "id": "1J8682NgYVLm"
      },
      "source": [
        "**Q7a.** Fill in the values below:"
      ]
    },
    {
      "cell_type": "markdown",
      "metadata": {
        "id": "QrubPmUTYe38"
      },
      "source": [
        "![image.png](data:image/png;base64,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)"
      ]
    },
    {
      "cell_type": "code",
      "metadata": {
        "id": "pzFZYJN4Yilz"
      },
      "source": [
        "#your answers to the 3 equations below"
      ],
      "execution_count": null,
      "outputs": []
    },
    {
      "cell_type": "markdown",
      "metadata": {
        "id": "qu7e2felYhLu"
      },
      "source": [
        "**Q7b.**\tLook at the dataframe again and determine how many participants are represented at each Alertness Level. Consequently, identify the value nA takes here "
      ]
    },
    {
      "cell_type": "code",
      "metadata": {
        "id": "ex6tjDHVZL5w"
      },
      "source": [
        "#your answer here"
      ],
      "execution_count": null,
      "outputs": []
    },
    {
      "cell_type": "markdown",
      "metadata": {
        "id": "F3lsnr12ZBPz"
      },
      "source": [
        "**Q7c.**\tMultiply the answer for 7a with the answer to 7b to get SSA "
      ]
    },
    {
      "cell_type": "code",
      "metadata": {
        "id": "t3r0n7tHZPKl"
      },
      "source": [
        "#your answer here"
      ],
      "execution_count": null,
      "outputs": []
    },
    {
      "cell_type": "markdown",
      "metadata": {
        "id": "vURQBvGGZe_C"
      },
      "source": [
        "**Q7d.**\tYou now have all the values required to complete Equation 4. Insert the appropriate values and calculate MSA. "
      ]
    },
    {
      "cell_type": "code",
      "metadata": {
        "id": "ihlZGylWZsr-"
      },
      "source": [
        "#your answer here"
      ],
      "execution_count": null,
      "outputs": []
    },
    {
      "cell_type": "markdown",
      "metadata": {
        "id": "ZLUtOqRJZm7U"
      },
      "source": [
        "**The Interaction term – MSDA**\n",
        "The total variation in the experiment can be broken down into 2 main parts:\n",
        "\n",
        "*SStotal = SSerror + SScells*\n",
        "\n",
        "The SScells can be further broken down in terms of its components as shown below where SSDA is the mean square for the interaction:\n",
        "\n",
        "\n",
        "*SScells = SSD + SSA + SSDA*\n",
        "\n",
        "\n",
        "We want to calculate SSDA (the interaction term) and we can do this by calculating SScells after rearranging the terms in the equation to get SSDA on the left. We can do this by rearranging the line above to move SSD and SSA to the other side of the equal sign (and therefore changing sign from plus to minus in the process)\n",
        "\n",
        "*SScells - SSD - SSA = SSDA*\n",
        "\n",
        "Rearrange again to put SSDA on the left (this is really just for convenience)\n",
        "\n",
        "*SSDA = SScells - SSD - SSA*\n",
        "\n",
        "We have already calculated SSD and SSA while calculating the MS terms. However, to calculate SScells we have to produce a new formula as presented below.\n",
        "\n",
        "Calculating SScells\n",
        "\n",
        "The best way to think of SSCells is the between subjects variation between all the experimental cells, as if it was one variable with 6 levels.\n"
      ]
    },
    {
      "cell_type": "markdown",
      "metadata": {
        "id": "9UPryB8Ea948"
      },
      "source": [
        "![image.png](data:image/png;base64,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)"
      ]
    },
    {
      "cell_type": "markdown",
      "metadata": {
        "id": "YZxtkTU7bBfh"
      },
      "source": [
        "Where:\n",
        "nDA = the number of participants in each experimental cell\n",
        "  = the average in each experimental cell\n",
        "\n",
        "**Q8a.**\tCompute the average for each cell by splitting the file according to both variables. Subtract the grand mean and enter the answers in the relevant section below.\n"
      ]
    },
    {
      "cell_type": "markdown",
      "metadata": {
        "id": "nPesqUVJbOWw"
      },
      "source": [
        "![image.png](data:image/png;base64,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)"
      ]
    },
    {
      "cell_type": "markdown",
      "metadata": {
        "id": "3gasNn_ubP41"
      },
      "source": [
        "**Q8b.**\tPut these values into the Equation above and calculate SSCells ."
      ]
    },
    {
      "cell_type": "code",
      "metadata": {
        "id": "29x-BZaxbZjr"
      },
      "source": [
        "#your answer here"
      ],
      "execution_count": null,
      "outputs": []
    },
    {
      "cell_type": "markdown",
      "metadata": {
        "id": "q35wmigCbmOg"
      },
      "source": [
        "**Q8c.**\tWe have calculated SSD in 6c above and SSA in 7c above and therefore have all the necessary values to complete the equation above. Insert the values and calculate SSDA."
      ]
    },
    {
      "cell_type": "code",
      "metadata": {
        "id": "lhK5zo9gbtQk"
      },
      "source": [
        "#your answer here"
      ],
      "execution_count": null,
      "outputs": []
    },
    {
      "cell_type": "markdown",
      "metadata": {
        "id": "pEUviFKKbvWc"
      },
      "source": [
        "**Q8d.** Use the answer in 8c above and the equation below to determine what the interaction term should be.\n",
        "\n",
        "MSDA = SSDA/(KD-1)(KA-1)"
      ]
    },
    {
      "cell_type": "code",
      "metadata": {
        "id": "mHPm60GYbuyO"
      },
      "source": [
        "#your answer here"
      ],
      "execution_count": null,
      "outputs": []
    },
    {
      "cell_type": "markdown",
      "metadata": {
        "id": "TURPaScqcGEw"
      },
      "source": [
        "**Completing the ANOVA table**\n",
        "\n",
        "Calculating df\n",
        "* any variable = K-1\n",
        "* an interaction = (KD -1)(KA-1)\n",
        "* error term = N-KDKA\n",
        "\n",
        "Completing the table\n",
        "You should now have all the elements that make up the ANOVA table given that:\n",
        "\n",
        "F= MSbetween / MSerror\n",
        "\n",
        "and \n",
        "\n",
        "MS = SS/df\n"
      ]
    },
    {
      "cell_type": "markdown",
      "metadata": {
        "id": "EkYk3zhKcaQh"
      },
      "source": [
        "![image.png](data:image/png;base64,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)"
      ]
    },
    {
      "cell_type": "code",
      "metadata": {
        "id": "zo4b0Jz1dE-_"
      },
      "source": [
        "#write your answers out here\n",
        "\n",
        "#Drug Level D - SS\n",
        "\n",
        "#Drug Level D - df\n",
        "\n",
        "#etc."
      ],
      "execution_count": null,
      "outputs": []
    },
    {
      "cell_type": "markdown",
      "metadata": {
        "id": "lqtZ3O4Qc6zA"
      },
      "source": [
        "**Performing a factorial ANOVA directly**\n",
        "\n",
        "You should now check your results using the factorial ANOVA function directly."
      ]
    },
    {
      "cell_type": "code",
      "metadata": {
        "id": "ieNvWJSxdlE-",
        "colab": {
          "base_uri": "https://localhost:8080/",
          "height": 173
        },
        "outputId": "bb067044-550f-4430-eb9c-116d6ce67042"
      },
      "source": [
        "# Run ANOVA using statsmodel approach\n",
        "\n",
        "import statsmodels.api as sm\n",
        "from statsmodels.formula.api import ols\n",
        "model = ols('Driving_responsiveness ~ C(Alterness) + C(Drug) + C(Alterness):C(Drug)', data=df).fit()\n",
        "sm.stats.anova_lm(model, typ=2)\n"
      ],
      "execution_count": null,
      "outputs": [
        {
          "output_type": "execute_result",
          "data": {
            "text/html": [
              "<div>\n",
              "<style scoped>\n",
              "    .dataframe tbody tr th:only-of-type {\n",
              "        vertical-align: middle;\n",
              "    }\n",
              "\n",
              "    .dataframe tbody tr th {\n",
              "        vertical-align: top;\n",
              "    }\n",
              "\n",
              "    .dataframe thead th {\n",
              "        text-align: right;\n",
              "    }\n",
              "</style>\n",
              "<table border=\"1\" class=\"dataframe\">\n",
              "  <thead>\n",
              "    <tr style=\"text-align: right;\">\n",
              "      <th></th>\n",
              "      <th>sum_sq</th>\n",
              "      <th>df</th>\n",
              "      <th>F</th>\n",
              "      <th>PR(&gt;F)</th>\n",
              "    </tr>\n",
              "  </thead>\n",
              "  <tbody>\n",
              "    <tr>\n",
              "      <th>C(Alterness)</th>\n",
              "      <td>201.666667</td>\n",
              "      <td>1.0</td>\n",
              "      <td>8.712</td>\n",
              "      <td>0.004669</td>\n",
              "    </tr>\n",
              "    <tr>\n",
              "      <th>C(Drug)</th>\n",
              "      <td>190.000000</td>\n",
              "      <td>2.0</td>\n",
              "      <td>4.104</td>\n",
              "      <td>0.021917</td>\n",
              "    </tr>\n",
              "    <tr>\n",
              "      <th>C(Alterness):C(Drug)</th>\n",
              "      <td>763.333333</td>\n",
              "      <td>2.0</td>\n",
              "      <td>16.488</td>\n",
              "      <td>0.000003</td>\n",
              "    </tr>\n",
              "    <tr>\n",
              "      <th>Residual</th>\n",
              "      <td>1250.000000</td>\n",
              "      <td>54.0</td>\n",
              "      <td>NaN</td>\n",
              "      <td>NaN</td>\n",
              "    </tr>\n",
              "  </tbody>\n",
              "</table>\n",
              "</div>"
            ],
            "text/plain": [
              "                           sum_sq    df       F    PR(>F)\n",
              "C(Alterness)           201.666667   1.0   8.712  0.004669\n",
              "C(Drug)                190.000000   2.0   4.104  0.021917\n",
              "C(Alterness):C(Drug)   763.333333   2.0  16.488  0.000003\n",
              "Residual              1250.000000  54.0     NaN       NaN"
            ]
          },
          "metadata": {},
          "execution_count": 24
        }
      ]
    }
  ]
}